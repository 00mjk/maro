{
 "cells": [
  {
   "cell_type": "markdown",
   "metadata": {},
   "source": [
    "# Quick Start"
   ]
  },
  {
   "cell_type": "markdown",
   "metadata": {},
   "source": [
    "Below is a simple demo of interaction with the environment."
   ]
  },
  {
   "cell_type": "code",
   "execution_count": 3,
   "metadata": {},
   "outputs": [],
   "source": [
    "from maro.simulator import Env\n",
    "from maro.simulator.scenarios.ecr.common import Action, DecisionEvent\n",
    "\n",
    "env = Env(scenario=\"ecr\", topology=\"toy.5p_ssddd_l0.0\", start_tick=0, durations=100)\n",
    "\n",
    "is_done: bool = False\n",
    "reward: int = None\n",
    "decision_event: DecisionEvent = None\n",
    "\n",
    "while not is_done:\n",
    "    action: Action = None\n",
    "    reward, decision_event, is_done = env.step(action)"
   ]
  },
  {
   "cell_type": "markdown",
   "metadata": {},
   "source": [
    "# Environment of Empty Container Repositioning (ECR)"
   ]
  },
  {
   "cell_type": "markdown",
   "metadata": {},
   "source": [
    "To initialize an environment, you need to specify the values of several parameters:\n",
    "- **scenario**: The target scenario of this Env. \"ecr\" denotes for the Empty Container Repositioning.\n",
    "- **topology**: The target topology of this Env.\n",
    "   + There are some predefined topologies in MARO, that you can directly use it as in the demo.\n",
    "   + Also, you can define your own topologies following the guidance in the [doc](docs/customization/new_topology.rst).\n",
    "- **start_tick**: The start tick of this Env, **1 tick corresponds to 1 minute in ecr.** (TODO: to confirm)\n",
    "   + In the demo above, *start_tick=0* indicates a simulation start from the beginning of the given topology.\n",
    "- **durations**: The duration of thie Env, **in the unit of tick/minute**.(TODO: to confirm)\n",
    "   + In the demo above, *durations=1440* indicates a simulation length of 1 day (24h * 60min/h).\n",
    "\n",
    "You can get all available scenarios and topologies by calling:"
   ]
  },
  {
   "cell_type": "code",
   "execution_count": 4,
   "metadata": {},
   "outputs": [
    {
     "data": {
      "text/plain": [
       "[{'scenario': 'citi_bike', 'topology': 'ny201912'},\n",
       " {'scenario': 'citi_bike', 'topology': 'train'},\n",
       " {'scenario': 'ecr', 'topology': '6p_sssbdd_l0.0'},\n",
       " {'scenario': 'ecr', 'topology': '6p_sssbdd_l0.3'},\n",
       " {'scenario': 'ecr', 'topology': '5p_ssddd_l0.6'},\n",
       " {'scenario': 'ecr', 'topology': '5p_ssddd_l0.5'},\n",
       " {'scenario': 'ecr', 'topology': '6p_sssbdd_l0.4'},\n",
       " {'scenario': 'ecr', 'topology': '6p_sssbdd_l0.5'},\n",
       " {'scenario': 'ecr', 'topology': '5p_ssddd_l0.2'},\n",
       " {'scenario': 'ecr', 'topology': '22p_global_trade_l0.1'},\n",
       " {'scenario': 'ecr', 'topology': '6p_sssbdd_l0.6'},\n",
       " {'scenario': 'ecr', 'topology': '6p_sssbdd_l0.8'},\n",
       " {'scenario': 'ecr', 'topology': '22p_global_trade_l0.3'},\n",
       " {'scenario': 'ecr', 'topology': '22p_global_trade_l0.4'},\n",
       " {'scenario': 'ecr', 'topology': '5p_ssddd_l0.8'},\n",
       " {'scenario': 'ecr', 'topology': '6p_sssbdd_l0.2'},\n",
       " {'scenario': 'ecr', 'topology': '6p_sssbdd_l0.7'},\n",
       " {'scenario': 'ecr', 'topology': '22p_global_trade_l0.2'},\n",
       " {'scenario': 'ecr', 'topology': '5p_ssddd_l0.3'},\n",
       " {'scenario': 'ecr', 'topology': '4p_ssdd_l0.7'},\n",
       " {'scenario': 'ecr', 'topology': '4p_ssdd_l0.6'},\n",
       " {'scenario': 'ecr', 'topology': '4p_ssdd_l0.5'},\n",
       " {'scenario': 'ecr', 'topology': '22p_global_trade_l0.0'},\n",
       " {'scenario': 'ecr', 'topology': '5p_ssddd_l0.1'},\n",
       " {'scenario': 'ecr', 'topology': '5p_ssddd_l0.0'},\n",
       " {'scenario': 'ecr', 'topology': '4p_ssdd_l0.1'},\n",
       " {'scenario': 'ecr', 'topology': '4p_ssdd_l0.4'},\n",
       " {'scenario': 'ecr', 'topology': '6p_sssbdd_l0.1'},\n",
       " {'scenario': 'ecr', 'topology': '4p_ssdd_l0.3'},\n",
       " {'scenario': 'ecr', 'topology': '5p_ssddd_l0.4'},\n",
       " {'scenario': 'ecr', 'topology': '4p_ssdd_l0.8'},\n",
       " {'scenario': 'ecr', 'topology': '22p_global_trade_l0.6'},\n",
       " {'scenario': 'ecr', 'topology': '22p_global_trade_l0.7'},\n",
       " {'scenario': 'ecr', 'topology': '5p_ssddd_l0.7'},\n",
       " {'scenario': 'ecr', 'topology': '22p_global_trade_l0.5'},\n",
       " {'scenario': 'ecr', 'topology': '22p_global_trade_l0.8'},\n",
       " {'scenario': 'ecr', 'topology': '4p_ssdd_l0.2'},\n",
       " {'scenario': 'ecr', 'topology': '4p_ssdd_l0.0'}]"
      ]
     },
     "execution_count": 4,
     "metadata": {},
     "output_type": "execute_result"
    }
   ],
   "source": [
    "from maro.simulator.utils import get_available_envs\n",
    "\n",
    "get_available_envs()    # TODO: specify the scenario"
   ]
  },
  {
   "cell_type": "markdown",
   "metadata": {},
   "source": [
    "Once you created an instance of the environment, you can easily access the real-time information of this environment, like:"
   ]
  },
  {
   "cell_type": "code",
   "execution_count": 26,
   "metadata": {},
   "outputs": [
    {
     "name": "stdout",
     "output_type": "stream",
     "text": [
      "The current tick: 0.\n",
      "The current frame index: 0.\n",
      "There are 5 agents in this Env.\n",
      "There will be 100 snapshots in total.\n",
      "\n",
      "Env Summary:\n",
      "{'node_detail': {},\n",
      " 'node_mapping': {'ports': {0: 'demand_port_001',\n",
      "                            1: 'demand_port_002',\n",
      "                            2: 'supply_port_001',\n",
      "                            3: 'supply_port_002',\n",
      "                            4: 'transfer_port_001'},\n",
      "                  'vessels': {0: 'rt1_vessel_001',\n",
      "                              1: 'rt1_vessel_002',\n",
      "                              2: 'rt1_vessel_003',\n",
      "                              3: 'rt2_vessel_001',\n",
      "                              4: 'rt2_vessel_002',\n",
      "                              5: 'rt2_vessel_003'}}}\n"
     ]
    }
   ],
   "source": [
    "from maro.backends.frame import SnapshotList\n",
    "from maro.simulator import Env\n",
    "from pprint import pprint\n",
    "from typing import List\n",
    "\n",
    "\n",
    "# Initialize an Env for ECR scenario\n",
    "env = Env(scenario=\"ecr\", topology=\"5p_ssddd_l0.0\", start_tick=0, durations=100)\n",
    "\n",
    "# The current tick\n",
    "tick: int = env.tick\n",
    "print(f\"The current tick: {tick}.\")\n",
    "\n",
    "# The current frame index, which indicates the index of current frame in the snapshot-list\n",
    "frame_index: int = env.frame_index\n",
    "print(f\"The current frame index: {frame_index}.\")\n",
    "\n",
    "# The agent index list in the environment\n",
    "agent_idx_list: List[int] = env.agent_idx_list\n",
    "print(f\"There are {len(agent_idx_list)} agents in this Env.\")\n",
    "\n",
    "# The whole snapshot-list of the environment, snapshots are taken in the granularity of the given snapshot_resolution\n",
    "# The example of how to use the snapshot will be shown later\n",
    "snapshot_list: SnapshotList = env.snapshot_list\n",
    "print(f\"There will be {len(snapshot_list)} snapshots in total.\")\n",
    "\n",
    "# The summary info of the environment\n",
    "summary: dict = env.summary\n",
    "print(f\"\\nEnv Summary:\")\n",
    "pprint(summary, depth=3)"
   ]
  },
  {
   "cell_type": "markdown",
   "metadata": {},
   "source": [
    "# Interaction with the environment"
   ]
  },
  {
   "cell_type": "markdown",
   "metadata": {},
   "source": [
    "Before starting interaction with the environment, we need to know DecisionEvent and Action first."
   ]
  },
  {
   "cell_type": "markdown",
   "metadata": {},
   "source": [
    "## DecisionEvent\n",
    "\n",
    "Once the environment need the agent's response to promote the simulation, it will throw an **DecisionEvent**. In the scenario of ECR, the information of each DecisionEvent is listed as below:\n",
    "- **tick**: (int) the corresponding tick\n",
    "- **port_idx**: (int) the id of the port/agent that needs to respond to the environment\n",
    "- **vessel_idx**: (int) the id of the vessel/operation object of the port/agnet.\n",
    "- **snapshot_list**: (int) **Snapshots of the environment to input into the decision model** TODO: confirm the meaning\n",
    "- **action_scope**: **Load and discharge scope for agent to generate decision**\n",
    "- **early_discharge**: **Early discharge number of corresponding vessel**"
   ]
  },
  {
   "cell_type": "markdown",
   "metadata": {},
   "source": [
    "## Action\n",
    "\n",
    "Once we get a DecisionEvent from the envirionment, we should respond with an Action. Valid Action could be:\n",
    "\n",
    "- None, which means do nothing.\n",
    "- A valid Action instance, including:\n",
    "   + **vessel_idx**: (int) the id of the vessel/operation object of the port/agent.\n",
    "   + **port_idx**: (int) the id of the port/agent that take this action.\n",
    "   + **quantity**: (int) the sign of this value denotes different meanings:\n",
    "      * positive quantity means unloading empty containers from vessel to port.\n",
    "      * negative quantity means loading empty containers from port to vessel."
   ]
  },
  {
   "cell_type": "markdown",
   "metadata": {},
   "source": [
    "## Generate random actions based on the DecisionEvent"
   ]
  },
  {
   "cell_type": "markdown",
   "metadata": {},
   "source": [
    "The demo code in the Quick Start part has shown an interaction mode that doing nothing(responding with None action). Here we read the detailed information about the DecisionEvent and generate random actions based on it."
   ]
  },
  {
   "cell_type": "code",
   "execution_count": 25,
   "metadata": {},
   "outputs": [
    {
     "name": "stdout",
     "output_type": "stream",
     "text": [
      "*************\n",
      "DecisionEvent(tick=7, port_idx=3, vessel_idx=1, action_scope=ActionScope {load: 20000, discharge: 0 })\n",
      "Action {quantity: -6886, port: 3, vessel: 1 }\n",
      "*************\n",
      "DecisionEvent(tick=14, port_idx=3, vessel_idx=0, action_scope=ActionScope {load: 13114, discharge: 2073 })\n",
      "Action {quantity: -6744, port: 3, vessel: 0 }\n",
      "*************\n",
      "DecisionEvent(tick=21, port_idx=0, vessel_idx=4, action_scope=ActionScope {load: 389, discharge: 5977 })\n",
      "Action {quantity: 1936, port: 0, vessel: 4 }\n",
      "*************\n",
      "DecisionEvent(tick=42, port_idx=3, vessel_idx=2, action_scope=ActionScope {load: 29092, discharge: 6041 })\n",
      "Action {quantity: 5316, port: 3, vessel: 2 }\n",
      "*************\n",
      "DecisionEvent(tick=77, port_idx=3, vessel_idx=0, action_scope=ActionScope {load: 26402, discharge: 12393 })\n",
      "Action {quantity: -14075, port: 3, vessel: 0 }\n",
      "*************\n",
      "DecisionEvent(tick=91, port_idx=0, vessel_idx=3, action_scope=ActionScope {load: 0, discharge: 6462 })\n",
      "Action {quantity: 6194, port: 0, vessel: 3 }\n"
     ]
    }
   ],
   "source": [
    "from maro.simulator import Env\n",
    "from maro.simulator.scenarios.ecr.common import Action, DecisionEvent\n",
    "\n",
    "import random\n",
    "\n",
    "env = Env(scenario=\"ecr\", topology=\"5p_ssddd_l0.0\", start_tick=0, durations=100)\n",
    "\n",
    "is_done: bool = False\n",
    "reward: int = None\n",
    "decision_event: DecisionEvent = None\n",
    "\n",
    "reward, decision_event, is_done = env.step(None)\n",
    "\n",
    "while not is_done:\n",
    "    # Generate a random Action according to the action_scope in DecisionEvent\n",
    "    action = Action(\n",
    "        vessel_idx=decision_event.vessel_idx,\n",
    "        port_idx=decision_event.port_idx,\n",
    "        quantity=random.randint(-decision_event.action_scope.load, decision_event.action_scope.discharge)\n",
    "    )\n",
    "    # random sampling some records to show in the output\n",
    "    if random.random() > 0.95:\n",
    "        print(f\"*************\\n{decision_event}\\n{action}\")\n",
    "    reward, decision_event, is_done = env.step(action) "
   ]
  },
  {
   "cell_type": "markdown",
   "metadata": {},
   "source": [
    "## Get the environment observation"
   ]
  },
  {
   "cell_type": "markdown",
   "metadata": {},
   "source": [
    "You can also implement other strategies or build models to take action. At this time, real-time information and historical records of the environment are very important for making good decisions. In this case, the the environment snapshot list is exactly what you need.\n",
    "\n",
    "The information in the snapshot list is indexed by 3 dimensions:\n",
    "- A frame index or a frame index list. (int or list of int) Empty indicates for all time slides till now\n",
    "- A station id (list). (int of list of int) Empty indicates for all ports/agents\n",
    "- An Attribute name (list). (str of list of str) You can get all available attributes in env.summary as shown before.\n",
    "\n",
    "The return value from the snapshot list is a numpy.ndarray with shape **(frame * attribute * station, )**.\n",
    "\n",
    "More detailed introduction to the snapshot list is [here](). # TODO: add hyper-link"
   ]
  },
  {
   "cell_type": "code",
   "execution_count": 27,
   "metadata": {},
   "outputs": [
    {
     "name": "stdout",
     "output_type": "stream",
     "text": [
      "{'node_detail': {},\n",
      " 'node_mapping': {'ports': {0: 'demand_port_001',\n",
      "                            1: 'demand_port_002',\n",
      "                            2: 'supply_port_001',\n",
      "                            3: 'supply_port_002',\n",
      "                            4: 'transfer_port_001'},\n",
      "                  'vessels': {0: 'rt1_vessel_001',\n",
      "                              1: 'rt1_vessel_002',\n",
      "                              2: 'rt1_vessel_003',\n",
      "                              3: 'rt2_vessel_001',\n",
      "                              4: 'rt2_vessel_002',\n",
      "                              5: 'rt2_vessel_003'}}}\n"
     ]
    }
   ],
   "source": [
    "from maro.simulator import Env\n",
    "from pprint import pprint\n",
    "\n",
    "env = Env(scenario=\"ecr\", topology=\"5p_ssddd_l0.0\", start_tick=0, durations=100)\n",
    "\n",
    "pprint(env.summary)"
   ]
  },
  {
   "cell_type": "code",
   "execution_count": 15,
   "metadata": {},
   "outputs": [
    {
     "name": "stdout",
     "output_type": "stream",
     "text": [
      "<class 'numpy.ndarray'> (5,)\n",
      "Port 0 capacity: 100000.0\n",
      "Port 1 capacity: 100000.0\n",
      "Port 2 capacity: 100000.0\n",
      "Port 3 capacity: 100000.0\n",
      "Port 4 capacity: 100000.0\n",
      "\n",
      "<class 'numpy.ndarray'> (1000,)\n",
      "<class 'numpy.ndarray'> (100, 2, 5)\n",
      "Port 0: [  0.   0.   0.   0.   0.   0.   0.   0.   0.   0.   0.   0.   0.   0.\n",
      "   0.   0.   0.   0.   0.   0.   0.   0.   0.   0.   0.   0.   0.   0.\n",
      "   0.   0.   0.   0.   0.   0.   0.   0.   0.   0.   0.   0. 500. 500.\n",
      " 500. 500. 500. 500. 500. 500. 500. 500. 500. 500. 500. 500. 500. 500.\n",
      " 500. 500. 500. 500. 500. 500. 500. 500. 500. 500. 500. 500. 500. 500.\n",
      " 500. 500. 500. 500. 500. 500. 500. 500. 500. 500. 500. 500. 500. 500.\n",
      " 500. 500. 500. 500. 500. 500. 500. 500. 500. 500. 500. 500. 500. 500.\n",
      " 500. 500.]\n",
      "Port 1: [  0.   0.   0.   0.   0.   0.   0.   0.   0.   0.   0.   0.   0.   0.\n",
      "   0.   0.   0.   0.   0.   0.   0.   0.   0.   0.   0.   0.   0.   0.\n",
      "   0.   0.   0.   0.   0.   0.   0.   0.   0.   0.   0.   0. 500. 500.\n",
      " 500. 500. 500. 500. 500. 500. 500. 500. 500. 500. 500. 500. 500. 500.\n",
      " 500. 500. 500. 500. 500. 500. 500. 500. 500. 500. 500. 500. 500. 500.\n",
      " 500. 500. 500. 500. 500. 500. 500. 500. 500. 500. 500. 500. 500. 500.\n",
      " 500. 500. 500. 500. 500. 500. 500. 500. 500. 500. 500. 500. 500. 500.\n",
      " 500. 500.]\n",
      "Port 2: [0. 0. 0. 0. 0. 0. 0. 0. 0. 0. 0. 0. 0. 0. 0. 0. 0. 0. 0. 0. 0. 0. 0. 0.\n",
      " 0. 0. 0. 0. 0. 0. 0. 0. 0. 0. 0. 0. 0. 0. 0. 0. 0. 0. 0. 0. 0. 0. 0. 0.\n",
      " 0. 0. 0. 0. 0. 0. 0. 0. 0. 0. 0. 0. 0. 0. 0. 0. 0. 0. 0. 0. 0. 0. 0. 0.\n",
      " 0. 0. 0. 0. 0. 0. 0. 0. 0. 0. 0. 0. 0. 0. 0. 0. 0. 0. 0. 0. 0. 0. 0. 0.\n",
      " 0. 0. 0. 0.]\n",
      "Port 3: [0. 0. 0. 0. 0. 0. 0. 0. 0. 0. 0. 0. 0. 0. 0. 0. 0. 0. 0. 0. 0. 0. 0. 0.\n",
      " 0. 0. 0. 0. 0. 0. 0. 0. 0. 0. 0. 0. 0. 0. 0. 0. 0. 0. 0. 0. 0. 0. 0. 0.\n",
      " 0. 0. 0. 0. 0. 0. 0. 0. 0. 0. 0. 0. 0. 0. 0. 0. 0. 0. 0. 0. 0. 0. 0. 0.\n",
      " 0. 0. 0. 0. 0. 0. 0. 0. 0. 0. 0. 0. 0. 0. 0. 0. 0. 0. 0. 0. 0. 0. 0. 0.\n",
      " 0. 0. 0. 0.]\n",
      "Port 4: [   0.    0.    0.    0.    0.    0.    0.    0.    0.    0.    0.    0.\n",
      "    0.    0.    0.    0.    0.    0.    0.    0.    0.    0.    0.    0.\n",
      "    0.    0.    0.    0.    0.    0.    0.    0.    0.    0.    0.    0.\n",
      "    0.    0.    0.    0.    0.    0.    0.    0.    0.    0.    0.    0.\n",
      "    0.    0.    0.    0.    0.    0.    0.    0.    0.    0.    0.    0.\n",
      " 1000. 1000. 1000. 1000. 1000. 1000. 1000. 1000. 1000. 1000. 1000. 1000.\n",
      " 1000. 1000. 1000. 1000. 1000. 1000. 1000. 1000. 1000. 1000. 1000. 1000.\n",
      " 1000. 1000. 1000. 1000. 1000. 1000. 1000. 1000. 1000. 1000. 1000. 1000.\n",
      " 1000. 1000. 1000. 1000.]\n"
     ]
    }
   ],
   "source": [
    "from maro.backends.frame import SnapshotList\n",
    "from maro.simulator import Env\n",
    "from pprint import pprint\n",
    "from typing import List\n",
    "\n",
    "\n",
    "# Initialize an Env for ECR scenario\n",
    "env = Env(scenario=\"ecr\", topology=\"5p_ssddd_l0.0\", start_tick=0, durations=100)\n",
    "\n",
    "# Run the environment to the end\n",
    "_, _, is_done = env.step(None)\n",
    "while not is_done:\n",
    "    _, _, is_done = env.step(None)\n",
    "\n",
    "# Get the capacity info for each ports by directly using initial frame index and attribute name\n",
    "capacity = env.snapshot_list[\"ports\"][0::\"capacity\"]\n",
    "print(type(capacity), capacity.shape)\n",
    "for i in range(len(env.agent_idx_list)):\n",
    "    print(f\"Port {i} capacity: {capacity[i]}\")\n",
    "print()\n",
    "    \n",
    "# Get fulfillment and shortage info simultaneously by using attribute list\n",
    "attribute_list = [\"fulfillment\", \"shortage\"]\n",
    "info = env.snapshot_list[\"ports\"][::attribute_list]\n",
    "print(type(info), info.shape)\n",
    "\n",
    "# Reshape the info of fulfillment and shortage into a user-friendly shape\n",
    "num_attributes = len(attribute_list)\n",
    "num_frame = env.frame_index + 1\n",
    "num_ports = len(env.agent_idx_list)\n",
    "info = info.reshape(num_frame, num_attributes, num_ports)\n",
    "print(type(info), info.shape)\n",
    "\n",
    "# Pring and show the change of shortage in each port:\n",
    "shortage_idx = 1\n",
    "for port_id in env.agent_idx_list:\n",
    "    print(f\"Port {port_id}: {info[:, shortage_idx, port_id]}\")"
   ]
  }
 ],
 "metadata": {
  "kernelspec": {
   "display_name": "Python 3",
   "language": "python",
   "name": "python3"
  },
  "language_info": {
   "codemirror_mode": {
    "name": "ipython",
    "version": 3
   },
   "file_extension": ".py",
   "mimetype": "text/x-python",
   "name": "python",
   "nbconvert_exporter": "python",
   "pygments_lexer": "ipython3",
   "version": "3.7.7"
  }
 },
 "nbformat": 4,
 "nbformat_minor": 4
}