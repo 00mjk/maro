{
 "cells": [
  {
   "cell_type": "markdown",
   "metadata": {},
   "source": [
    "# Adding a new scenario\n",
    "\n",
    "We will try to implement a simple logistic scenario that randomly move stocks between warehouses, and record their shortage as state.\n"
   ]
  },
  {
   "cell_type": "markdown",
   "metadata": {},
   "source": [
    "## Data model definition"
   ]
  },
  {
   "cell_type": "code",
   "execution_count": 1,
   "metadata": {},
   "outputs": [],
   "source": [
    "# define a warehouse node as our data model, with 2 attributes\n",
    "\n",
    "from  maro.backends.frame import node, NodeAttribute, NodeBase\n",
    "\n",
    "# our node name in frames\n",
    "@node(\"warehouses\")\n",
    "class Warehouse(NodeBase):\n",
    "    # attribute defined with NodeAttribute will be stored in frame\n",
    "    stocks = NodeAttribute(\"i\")\n",
    "\n",
    "    # shortage when need stocks     \n",
    "    shortage = NodeAttribute(\"i\")  \n",
    "\n",
    "    def __init__(self):\n",
    "        \n",
    "        # init stocks used to reset initialized value after reset,       \n",
    "        self._init_stocks: int = 0\n",
    "\n",
    "    def set_init_state(self, stocks:int):\n",
    "        self._init_stocks = stocks # this attribute will not in frame\n",
    "        self.stocks = stocks\n",
    "\n",
    "    def reset(self):\n",
    "        # since frame will clear the stocks value to 0 after reset, we need to set it again        \n",
    "        self.stocks = self._init_stocks\n",
    "\n",
    "    def _on_shortage_changed(self, node_index: int, value: int):\n",
    "        # do something here on shortage changed\n",
    "        pass\n"
   ]
  },
  {
   "cell_type": "code",
   "execution_count": 1,
   "metadata": {},
   "outputs": [
    {
     "ename": "NameError",
     "evalue": "name 'frame' is not defined",
     "output_type": "error",
     "traceback": [
      "\u001b[0;31m---------------------------------------------------------------------------\u001b[0m",
      "\u001b[0;31mNameError\u001b[0m                                 Traceback (most recent call last)",
      "\u001b[0;32m<ipython-input-1-cfb10e4d0776>\u001b[0m in \u001b[0;36m<module>\u001b[0;34m\u001b[0m\n\u001b[1;32m     21\u001b[0m \u001b[0;34m\u001b[0m\u001b[0m\n\u001b[1;32m     22\u001b[0m \u001b[0;31m# after you get the instance from frame, you can access attributes with different ways.\u001b[0m\u001b[0;34m\u001b[0m\u001b[0;34m\u001b[0m\u001b[0;34m\u001b[0m\u001b[0m\n\u001b[0;32m---> 23\u001b[0;31m \u001b[0mnode\u001b[0m \u001b[0;34m=\u001b[0m \u001b[0mframe\u001b[0m\u001b[0;34m.\u001b[0m\u001b[0mmynodes\u001b[0m\u001b[0;34m[\u001b[0m\u001b[0;36m0\u001b[0m\u001b[0;34m]\u001b[0m\u001b[0;34m\u001b[0m\u001b[0;34m\u001b[0m\u001b[0m\n\u001b[0m\u001b[1;32m     24\u001b[0m \u001b[0;34m\u001b[0m\u001b[0m\n\u001b[1;32m     25\u001b[0m \u001b[0;31m# attributes with 1 slot, can be access as normal python fields\u001b[0m\u001b[0;34m\u001b[0m\u001b[0;34m\u001b[0m\u001b[0;34m\u001b[0m\u001b[0m\n",
      "\u001b[0;31mNameError\u001b[0m: name 'frame' is not defined"
     ]
    }
   ],
   "source": [
    "    from maro.backends.frame import node, NodeBase, NodeAttribute\n",
    "\n",
    "    @node(\"mynodes\") #specified node name in Frame and SnapshotList\n",
    "    class MyNode(NodeBase):\n",
    "        \"\"\"\n",
    "        Customized node should inherit from NodeBase, and use node decorator to specified node name.\n",
    "\n",
    "        After Frame initialazing, declared attributes will be add to MyNode instances.\n",
    "        \"\"\"\n",
    "\n",
    "        # attribute name in Node, with a data type \"i\" (integer), and default slot is 1\n",
    "        my_int_attribute = NodeAttribute(\"i\")\n",
    "\n",
    "        # a length 2 float arrays\n",
    "        my_float_array = NodeAttribute(\"f\", 2) \n",
    "\n",
    "\n",
    "        def _on_my_int_attribute_changed(self, node_index:int, value: int):\n",
    "            pass # do something here\n",
    "\n",
    "\n",
    "    # after you get the instance from frame, you can access attributes with different ways.\n",
    "    node = frame.mynodes[0]\n",
    "\n",
    "    # attributes with 1 slot, can be access as normal python fields\n",
    "    node.my_int_attribute = 12\n",
    "\n",
    "    print(node.my_int_attribute)\n",
    "\n",
    "    # attributes with 2 slot, can be access like an array object\n",
    "    node.my_float_array[0] = 12.1\n",
    "\n",
    "    print(node.my_float_array[1])\n",
    "\n",
    "    # set values\n",
    "    node.my_float_array[:] = (1.0, 2.0)\n",
    "\n",
    "    # get all values\n",
    "    print(node.my_float_array[:])\n",
    "\n",
    "    # with list of index\n",
    "    node.my_float_array[(0, 1)] = (1.1, 1.3)\n",
    "\n",
    "    print(node.my_float_array[(0,1)])"
   ]
  },
  {
   "cell_type": "code",
   "execution_count": 2,
   "metadata": {},
   "outputs": [],
   "source": [
    "# define a frame used to store states of warehouse\n",
    "\n",
    "from maro.backends.frame import FrameNode, FrameBase\n",
    "\n",
    "\n",
    "# we need to specified total in-memory snapshots number at definition time\n",
    "def build_frame(warehouse_number: int, total_snapshot: int):\n",
    "    # since we need to specified node number at definition time, so we can use a function to delay the definition\n",
    "    # customized frame must inherit from FrameBase\n",
    "    class LogisticsFrame(FrameBase):\n",
    "        # add ware house node into current frame, and spcified number of warehouse\n",
    "        # the class of Warehouse here is used to create wrapper to access node attribute\n",
    "        # NOTE: nodes contain a built-in field \"index\" used as id in frame which is 0 based, we need this for further using, like states quering\n",
    "        warehouses = FrameNode(Warehouse, warehouse_number)\n",
    "        \n",
    "        def __init__(self):\n",
    "            super().__init__(enable_snapshot=True, total_snapshot=total_snapshot)\n",
    "\n",
    "    return LogisticsFrame()\n",
    "        "
   ]
  },
  {
   "cell_type": "markdown",
   "metadata": {},
   "source": [
    "## Events definition"
   ]
  },
  {
   "cell_type": "code",
   "execution_count": 3,
   "metadata": {},
   "outputs": [],
   "source": [
    "from enum import Enum\n",
    "\n",
    "# customized new events with enum or other prefered way\n",
    "class LogisticsEvents(Enum):\n",
    "    # we have one event here that will be triggered if stock arrived at destination warehouse\n",
    "    STOCK_ARRIVED = \"stock_arrive\" # stocks arrived at destinition warehouse\n",
    "    STOCK_TRANSFER = \"stock_transfer\" # need to move stocks from soure to destinition warehouse\n"
   ]
  },
  {
   "cell_type": "markdown",
   "metadata": {},
   "source": [
    "## Business engine"
   ]
  },
  {
   "cell_type": "code",
   "execution_count": 4,
   "metadata": {},
   "outputs": [],
   "source": [
    "# the implementation of business engine\n",
    "\n",
    "import random\n",
    "from maro.simulator.scenarios import AbsBusinessEngine\n",
    "from maro.event_buffer import Event, DECISION_EVENT\n",
    "\n",
    "class LogisticsBusinessEngine(AbsBusinessEngine):\n",
    "    def __init__(self, **kwargs): # this is a short way, as there are lots of parameters here\n",
    "        # first parameter is the scenario name\n",
    "        super().__init__(\"logistics\", **kwargs)\n",
    "\n",
    "        # udpate configuration path with current file path if use built-in topology logic\n",
    "        self.update_config_root_path(os.path.abspath(''))\n",
    "        # or self.update_config_root_path(__file__) if not in notebook\n",
    "\n",
    "        # then we can use self._config_path to combine the configuration file\n",
    "        # we do not need it here\n",
    "\n",
    "        # initialize the frame\n",
    "        self._init_frame()\n",
    "\n",
    "        # register events\n",
    "        self._register_events()\n",
    "\n",
    "        # initialize nodes\n",
    "        self._init_nodes()\n",
    "\n",
    "    @property\n",
    "    def frame(self):\n",
    "        return self._frame\n",
    "\n",
    "    @property\n",
    "    def snapshots(self):\n",
    "        return self._frame.snapshots\n",
    "\n",
    "    def step(self, tick: int):\n",
    "        # we generate a stock transfer even randomly here for demo\n",
    "        # you may need to read data from binary file, refer to raw_data.ipynb for more detailss\n",
    "        transfer_stock_num: int = random.randint(0, 6)\n",
    "\n",
    "        if random.random() > 0.5:\n",
    "            # pick a warehouse to transfer\n",
    "            source_warehouse_index = tick % len(self._warehouses)\n",
    "            target_warehouse_index = (tick + 1) % len(self._warehouses)\n",
    "\n",
    "            transfer_payload = (source_warehouse_index, target_warehouse_index, transfer_stock_num)\n",
    "\n",
    "            event = self._event_buffer.gen_atom_event(tick, LogisticsEvents.STOCK_TRANSFER, transfer_payload)\n",
    "\n",
    "            self._event_buffer.insert_event(event)\n",
    "\n",
    "    def post_step(self, tick: int):\n",
    "        # This is a normal way to check if we need to take snapshot\n",
    "        if (tick+1) % self._snapshot_resolution == 0:\n",
    "            # AbsBusinessEngine provide a default function to convert tick to frame index in snapshot list\n",
    "            self._frame.take_snapshot(self.frame_index(tick))\n",
    "\n",
    "            # clear the shortage, as we need it to be state per snapshot\n",
    "            for wh in self._warehouses:\n",
    "                wh.shortage = 0\n",
    "\n",
    "        # exit at the end of tick\n",
    "        return tick+1 == self._max_tick\n",
    "\n",
    "    def rewards(self, actions):\n",
    "        # calculate rewards here\n",
    "        pass\n",
    "\n",
    "    def reset(self):\n",
    "        # clear frame and snapshot values\n",
    "        self._frame.reset()\n",
    "        self._frame.snapshots.reset()\n",
    "\n",
    "        # init the node states again\n",
    "        for wh in self._warehouses:\n",
    "            wh.reset()\n",
    "\n",
    "    def _init_frame(self):\n",
    "        # AbsBusinessEngine provide a easy way to calculate max snapshot number, but you can use your own\n",
    "        self._frame = build_frame(10, self.calc_max_snapshots())\n",
    "\n",
    "        # keep the reference of MyNode list for later using\n",
    "        self._warehouses = self._frame.warehouses\n",
    "\n",
    "    def _init_nodes(self):\n",
    "        # NOTE: after frame reset, these values will be reset to 0, so we need to set it again after reset\n",
    "        for wh in self._warehouses:\n",
    "            wh.set_init_state(wh.index * 10)\n",
    "\n",
    "    def _register_events(self):\n",
    "        # decision event, predefined in event buffer, used to recieve actions from env.step\n",
    "        self._event_buffer.register_event_handler(DECISION_EVENT, self._on_action_received)\n",
    "\n",
    "        # handle customized events\n",
    "        self._event_buffer.register_event_handler(LogisticsEvents.STOCK_ARRIVED, self._on_stock_arrived)\n",
    "        self._event_buffer.register_event_handler(LogisticsEvents.STOCK_TRANSFER, self._on_stock_need_transfer)\n",
    "\n",
    "    def _on_action_received(self, evt: Event):\n",
    "        action = None if evt is None else evt.payload\n",
    "\n",
    "        # process action here\n",
    "\n",
    "    def _on_stock_need_transfer(self, evt: Event):\n",
    "        # we generated the event in step function, and process it here\n",
    "\n",
    "        # extract payload as we passed in event\n",
    "        source_warehouse_index, target_warehouse_index, transfer_stock_num = evt.payload\n",
    "\n",
    "        source_warehouse = self._warehouses[source_warehouse_index]\n",
    "        target_warehouse = self._warehouses[target_warehouse_index]\n",
    "\n",
    "        # how many we can transfer to target\n",
    "        max_stocks_to_transfer = min(transfer_stock_num, source_warehouse.stocks)\n",
    "\n",
    "        # update shortage if there is any\n",
    "        if max_stocks_to_transfer != transfer_stock_num:\n",
    "            source_warehouse.shortage += transfer_stock_num - max_stocks_to_transfer\n",
    "\n",
    "        # update stocks in source  \n",
    "        source_warehouse.stocks -= max_stocks_to_transfer\n",
    "\n",
    "        # insert a new event with a delay to simuate transfer time on the way\n",
    "        transfer_time = 2\n",
    "\n",
    "        payload = (target_warehouse_index, max_stocks_to_transfer)\n",
    "\n",
    "        # generate a recieved event, it will be triggered 2 ticks later\n",
    "        recieved_evt = self._event_buffer.gen_atom_event(evt.tick + transfer_time, LogisticsEvents.STOCK_ARRIVED, payload)\n",
    "\n",
    "        self._event_buffer.insert_event(recieved_evt)\n",
    "      \n",
    "\n",
    "    def _on_stock_arrived(self, evt: Event):\n",
    "        \n",
    "        target_warehouse_index, stock_number = evt.payload\n",
    "\n",
    "        target_warehouse = self._warehouses[target_warehouse_index]\n",
    "\n",
    "        target_warehouse.stocks += stock_number\n",
    "\n"
   ]
  },
  {
   "cell_type": "code",
   "execution_count": null,
   "metadata": {},
   "outputs": [],
   "source": []
  },
  {
   "cell_type": "markdown",
   "metadata": {},
   "source": [
    "## Run in environment"
   ]
  },
  {
   "cell_type": "code",
   "execution_count": 5,
   "metadata": {
    "tags": []
   },
   "outputs": [],
   "source": [
    "from maro.simulator import Env\n",
    "\n",
    "start_tick: int = 0\n",
    "durations: int = 4\n",
    "\n",
    "reward, decision_event = None, None\n",
    "\n",
    "# to use a non built-in scenario, we need to pass the class of new business engine to run,\n",
    "# the topology if the relative path to the specified configurtion folder, we do not have one yet\n",
    "env = Env(business_engine_cls=LogisticsBusinessEngine, start_tick=0, durations=durations)\n",
    "\n",
    "is_done = False\n",
    "action = None # first action must be None for each episode, as environment use a generator internally\n",
    "\n",
    "while not is_done:\n",
    "    reward, decision_event, is_done = env.step(action)\n",
    "\n",
    "    # choose your action\n",
    "    # action = agent.choose_action()\n",
    "\n",
    "# NOTE: we can retrieve states before env.reset"
   ]
  },
  {
   "cell_type": "markdown",
   "metadata": {},
   "source": [
    "## States quering"
   ]
  },
  {
   "cell_type": "code",
   "execution_count": 6,
   "metadata": {},
   "outputs": [],
   "source": [
    "# states quering with env.stapshot_list\n",
    "    \n",
    "# get snapshot_list for specified node by node name in frame (with node decorator)\n",
    "warehouse_snapshots = env.snapshot_list[\"warehouses\"]\n"
   ]
  },
  {
   "cell_type": "code",
   "execution_count": 7,
   "metadata": {},
   "outputs": [
    {
     "data": {
      "text/plain": [
       "10"
      ]
     },
     "execution_count": 7,
     "metadata": {},
     "output_type": "execute_result"
    }
   ],
   "source": [
    "# we can use len(env.snapshot_list[\"node name\"]) to get node number \n",
    "warehouse_number = len(warehouse_snapshots)\n",
    "\n",
    "warehouse_number"
   ]
  },
  {
   "cell_type": "code",
   "execution_count": 8,
   "metadata": {},
   "outputs": [
    {
     "data": {
      "text/plain": [
       "array([ 0., 10., 20., 30., 40., 50., 60., 70., 80., 90.,  0., 10., 20.,\n",
       "       30., 40., 50., 60., 70., 80., 90.,  0., 10., 19., 30., 40., 50.,\n",
       "       60., 70., 80., 90.,  0., 10., 19., 30., 40., 50., 60., 70., 80.,\n",
       "       90.], dtype=float32)"
      ]
     },
     "execution_count": 8,
     "metadata": {},
     "output_type": "execute_result"
    }
   ],
   "source": [
    "# quering returns 1-dim numpy array by default\n",
    "stocks_all_ticks = warehouse_snapshots[::\"stocks\"]\n",
    "\n",
    "stocks_all_ticks\n"
   ]
  },
  {
   "cell_type": "code",
   "execution_count": 9,
   "metadata": {},
   "outputs": [
    {
     "data": {
      "text/plain": [
       "array([[[ 0.],\n",
       "        [10.],\n",
       "        [20.],\n",
       "        [30.],\n",
       "        [40.],\n",
       "        [50.],\n",
       "        [60.],\n",
       "        [70.],\n",
       "        [80.],\n",
       "        [90.]],\n",
       "\n",
       "       [[ 0.],\n",
       "        [10.],\n",
       "        [20.],\n",
       "        [30.],\n",
       "        [40.],\n",
       "        [50.],\n",
       "        [60.],\n",
       "        [70.],\n",
       "        [80.],\n",
       "        [90.]],\n",
       "\n",
       "       [[ 0.],\n",
       "        [10.],\n",
       "        [19.],\n",
       "        [30.],\n",
       "        [40.],\n",
       "        [50.],\n",
       "        [60.],\n",
       "        [70.],\n",
       "        [80.],\n",
       "        [90.]],\n",
       "\n",
       "       [[ 0.],\n",
       "        [10.],\n",
       "        [19.],\n",
       "        [30.],\n",
       "        [40.],\n",
       "        [50.],\n",
       "        [60.],\n",
       "        [70.],\n",
       "        [80.],\n",
       "        [90.]]], dtype=float32)"
      ]
     },
     "execution_count": 9,
     "metadata": {},
     "output_type": "execute_result"
    }
   ],
   "source": [
    "# reshape it for easy reading\n",
    "# we can always reshape states by (frame_index_number, node_number, attributes_number)\n",
    "stocks_all_ticks.reshape(-1, len(warehouse_snapshots), 1)"
   ]
  },
  {
   "cell_type": "code",
   "execution_count": 10,
   "metadata": {},
   "outputs": [
    {
     "data": {
      "text/plain": [
       "array([[[ 0.,  2.],\n",
       "        [10.,  0.],\n",
       "        [20.,  0.],\n",
       "        [30.,  0.],\n",
       "        [40.,  0.],\n",
       "        [50.,  0.],\n",
       "        [60.,  0.],\n",
       "        [70.,  0.],\n",
       "        [80.,  0.],\n",
       "        [90.,  0.]],\n",
       "\n",
       "       [[ 0.,  0.],\n",
       "        [10.,  0.],\n",
       "        [20.,  0.],\n",
       "        [30.,  0.],\n",
       "        [40.,  0.],\n",
       "        [50.,  0.],\n",
       "        [60.,  0.],\n",
       "        [70.,  0.],\n",
       "        [80.,  0.],\n",
       "        [90.,  0.]],\n",
       "\n",
       "       [[ 0.,  0.],\n",
       "        [10.,  0.],\n",
       "        [19.,  0.],\n",
       "        [30.,  0.],\n",
       "        [40.,  0.],\n",
       "        [50.,  0.],\n",
       "        [60.,  0.],\n",
       "        [70.,  0.],\n",
       "        [80.,  0.],\n",
       "        [90.,  0.]],\n",
       "\n",
       "       [[ 0.,  0.],\n",
       "        [10.,  0.],\n",
       "        [19.,  0.],\n",
       "        [30.,  0.],\n",
       "        [40.,  0.],\n",
       "        [50.,  0.],\n",
       "        [60.,  0.],\n",
       "        [70.,  0.],\n",
       "        [80.,  0.],\n",
       "        [90.,  0.]]], dtype=float32)"
      ]
     },
     "execution_count": 10,
     "metadata": {},
     "output_type": "execute_result"
    }
   ],
   "source": [
    "#quering with multiple attributes\n",
    "multiple_states_all_ticks = warehouse_snapshots[::[\"stocks\", \"shortage\"]]\n",
    "\n",
    "multiple_states_all_ticks = multiple_states_all_ticks.reshape(-1, warehouse_number, 2)\n",
    "\n",
    "multiple_states_all_ticks"
   ]
  },
  {
   "cell_type": "code",
   "execution_count": 11,
   "metadata": {},
   "outputs": [
    {
     "data": {
      "text/plain": [
       "array([[ 0., 10., 20., 30., 40., 50., 60., 70., 80., 90.],\n",
       "       [ 0., 10., 20., 30., 40., 50., 60., 70., 80., 90.],\n",
       "       [ 0., 10., 19., 30., 40., 50., 60., 70., 80., 90.],\n",
       "       [ 0., 10., 19., 30., 40., 50., 60., 70., 80., 90.]], dtype=float32)"
      ]
     },
     "execution_count": 11,
     "metadata": {},
     "output_type": "execute_result"
    }
   ],
   "source": [
    "# then 1 column is stocks\n",
    "stocks_all_ticks_2 = multiple_states_all_ticks[:, :, 0]\n",
    "\n",
    "stocks_all_ticks_2"
   ]
  },
  {
   "cell_type": "code",
   "execution_count": 12,
   "metadata": {},
   "outputs": [
    {
     "data": {
      "text/plain": [
       "array([[2., 0., 0., 0., 0., 0., 0., 0., 0., 0.],\n",
       "       [0., 0., 0., 0., 0., 0., 0., 0., 0., 0.],\n",
       "       [0., 0., 0., 0., 0., 0., 0., 0., 0., 0.],\n",
       "       [0., 0., 0., 0., 0., 0., 0., 0., 0., 0.]], dtype=float32)"
      ]
     },
     "execution_count": 12,
     "metadata": {},
     "output_type": "execute_result"
    }
   ],
   "source": [
    "# 2nd is shortage\n",
    "\n",
    "shortage_all_ticks = multiple_states_all_ticks[:, :, 1]\n",
    "\n",
    "shortage_all_ticks"
   ]
  },
  {
   "cell_type": "code",
   "execution_count": 13,
   "metadata": {},
   "outputs": [
    {
     "data": {
      "text/plain": [
       "array([0., 0., 0., 0.], dtype=float32)"
      ]
     },
     "execution_count": 13,
     "metadata": {},
     "output_type": "execute_result"
    }
   ],
   "source": [
    "# quering states for one node\n",
    "first_warehouse_stocks_all_ticks = warehouse_snapshots[:0:\"stocks\"]\n",
    "\n",
    "first_warehouse_stocks_all_ticks"
   ]
  },
  {
   "cell_type": "code",
   "execution_count": 14,
   "metadata": {},
   "outputs": [
    {
     "data": {
      "text/plain": [
       "array([[ 0., 10.],\n",
       "       [ 0., 10.],\n",
       "       [ 0., 10.],\n",
       "       [ 0., 10.]], dtype=float32)"
      ]
     },
     "execution_count": 14,
     "metadata": {},
     "output_type": "execute_result"
    }
   ],
   "source": [
    "# quering states for multiple nodes\n",
    "first_2_warehouse_stocks_all_ticks = warehouse_snapshots[:(0,1):\"stocks\"]\n",
    "\n",
    "# after reshape, one column is for one node\n",
    "first_2_warehouse_stocks_all_ticks.reshape(-1, 2)"
   ]
  },
  {
   "cell_type": "code",
   "execution_count": 18,
   "metadata": {},
   "outputs": [
    {
     "data": {
      "text/plain": [
       "array([10.], dtype=float32)"
      ]
     },
     "execution_count": 18,
     "metadata": {},
     "output_type": "execute_result"
    }
   ],
   "source": [
    "# quering for 1 frame index (same as tick for this case)\n",
    "seconds_warehouse_stocks_1st_tick = warehouse_snapshots[0:1:\"stocks\"]\n",
    "\n",
    "# NOTE: this value may not the initial value, as snapshot is took at the end of tick or when need a decision\n",
    "seconds_warehouse_stocks_1st_tick"
   ]
  },
  {
   "cell_type": "code",
   "execution_count": 16,
   "metadata": {},
   "outputs": [
    {
     "data": {
      "text/plain": [
       "array([[10.],\n",
       "       [10.]], dtype=float32)"
      ]
     },
     "execution_count": 16,
     "metadata": {},
     "output_type": "execute_result"
    }
   ],
   "source": [
    "# quering with multiple frame index (same as tick for this case)\n",
    "seconds_warehouse_stocks_first_2_ticks = warehouse_snapshots[[0,1,]:1:\"stocks\"]\n",
    "\n",
    "seconds_warehouse_stocks_first_2_ticks.reshape(2,1)"
   ]
  }
 ],
 "metadata": {
  "kernelspec": {
   "display_name": "Python 3",
   "language": "python",
   "name": "python3"
  },
  "language_info": {
   "codemirror_mode": {
    "name": "ipython",
    "version": 3
   },
   "file_extension": ".py",
   "mimetype": "text/x-python",
   "name": "python",
   "nbconvert_exporter": "python",
   "pygments_lexer": "ipython3",
   "version": "3.7.8"
  }
 },
 "nbformat": 4,
 "nbformat_minor": 4
}
