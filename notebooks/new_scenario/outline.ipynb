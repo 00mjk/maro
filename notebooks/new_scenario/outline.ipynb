{
 "cells": [
  {
   "cell_type": "markdown",
   "metadata": {},
   "source": [
    "# Outline\n",
    "* [Business log data](./raw_data.ipynb)\n",
    "    * Station initialization data\n",
    "    * Trip log\n",
    "* [Implement simulator](./implement_simulator.ipynb)\n",
    "    * Pre-build trip log\n",
    "    * Build grap (frame)\n",
    "    * Define business event/handler logic\n",
    "    * Push business event (pre-build trip log)"
   ]
  },
  {
   "cell_type": "markdown",
   "metadata": {},
   "source": []
  }
 ],
 "metadata": {
  "kernelspec": {
   "display_name": "Python 3",
   "language": "python",
   "name": "python3"
  },
  "language_info": {
   "codemirror_mode": {
    "name": "ipython",
    "version": 3
   },
   "file_extension": ".py",
   "mimetype": "text/x-python",
   "name": "python",
   "nbconvert_exporter": "python",
   "pygments_lexer": "ipython3",
   "version": "3.7.8"
  }
 },
 "nbformat": 4,
 "nbformat_minor": 4
}
