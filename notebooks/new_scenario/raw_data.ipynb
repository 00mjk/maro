{
 "cells": [
  {
   "cell_type": "markdown",
   "metadata": {},
   "source": [
    "## Data converting\n",
    "\n",
    "MARO come with a simple command-line tool that used to convert a csv file into binary.\n",
    "\n",
    "``` sh\n",
    "    maro data convert\n",
    "```\n",
    "\n",
    "\n",
    "Converting csv into binary need a meta file with yaml format, it contains 2 parts:\n",
    "\n",
    "1. entity (required)\n",
    "\n",
    "Entity part used to group columns from source csv file with specifing the data type and field name that will be used in program.\n",
    "\n",
    "Each key under \"entity\" if the field name in program, and this field may contains:\n",
    "\n",
    "column (required): specified with column being mapped to this field\n",
    "dtype (optional): data type of this field, default is int32 if not provided, currently only support \"i\", \"i2\", \"i4\", \"i8\", \"f\" and \"d\" (same as numpy).\n",
    "tzone (optional): for timestamp field only, used to specified timezone of the datetime in csv file, converting function will convert this time into UTC, default is UTC if not provided.\n",
    "_event (optional): reversed key, used to specified with column's value should be mapped into events.\n",
    "\n",
    "2. events (optional)\n",
    "\n",
    "Event used to define events will be used in program, each event contains a type name and a display name.\n",
    "\n",
    "type name (required): key under events part is the type name of event\n",
    "display name (required): display name is a user friendly name used for displaying\n",
    "value_in_csv (optional): value_in_csv used to specified how to map values to events, this can be empty, then converting function will not map current event to any value.\n",
    "\n",
    "At last there is a reversed key \"_default\" used to specified default event if a value cannot be mapped to any event definition.\n",
    "\n",
    "\n",
    "**NOTE**:\n",
    "\n",
    "1. Currently convert function force meta file contains a field named as \"timestamp\", and it will be converted into UTC timesamps (in seconds).\n",
    "\n",
    "2. Convert function does not sort the input csv files, so these files may need to be pre-processed.\n",
    "\n",
    "\n",
    "A full example look like following."
   ]
  },
  {
   "cell_type": "code",
   "execution_count": 1,
   "metadata": {
    "tags": []
   },
   "outputs": [
    {
     "output_type": "stream",
     "name": "stdout",
     "text": "\n# events filed used to define event name and related value in csv file\nevents:\n  # event name in scenario -> related value in csv\n  RequireBike: # type name\n    # display_name should not contains special charactors, spaces, treat it as a variable\n    display_name: \"require_bike\" # can be empty, then will be same as type name (key)\n    # value_in_csv: 1 # used to mapping csv value into event type\n  ReturnBike:\n    display_name: \"return_bike\"\n    # value_in_csv: 2 # if event have no value\n  RebalanceBike:\n    display_name: \"rebalance_bike\"\n  DeliverBike:\n    display_name: \"deliver_bike\"\n    \n  \"_default\": \"RequireBike\" # default event type if not event type in column, such as citi_bike scenario, all the rows are trip_requirement, so we do not need to specified event column\n# entity used to specified which columns need to be extracted into binary, and its data type\n# current supported data types are: i, i2, i4, i8, f, d\nentity:\n  timestamp:\n    column: 'start_time'\n    dtype: 'i8'\n    # used to specified time zone in source file, converter will convert it into UTC,\n    # default is UTC if not specified:\n    # name : https://en.wikipedia.org/wiki/List_of_tz_database_time_zones\n    tzone: \"America/New_York\" \n  durations: \n    column: 'duration'\n    dtype: 'i'\n  src_station: \n    column: 'start_station_index'\n    dtype: 'i'\n  dest_station: \n    column: 'end_station_index'\n    dtype: 'i'\n    slot: 1\n\n  # optional, used to specified which column's value should be used as event type\n  # if not provided, then use default event in events definition\n  # \"_event\": \"type\"\n"
    }
   ],
   "source": [
    "# show an example of meta file\n",
    "import sys\n",
    "\n",
    "if sys.platform == \"win32\":\n",
    "  !type ..\\\\..\\\\tests\\\\data\\\\citi_bike\\\\trips.meta.yml\n",
    "else:\n",
    "  !cat ../../tests/data/citi_bike/trips.meta.yml"
   ]
  },
  {
   "cell_type": "markdown",
   "metadata": {},
   "source": [
    "If the meta file is ready, then use command to convert. This command line need 3 parameters as below."
   ]
  },
  {
   "cell_type": "code",
   "execution_count": 2,
   "metadata": {
    "tags": []
   },
   "outputs": [
    {
     "output_type": "stream",
     "name": "stdout",
     "text": "usage: maro data convert [-h] [--meta META] [--file FILE [FILE ...]]\n                         [--output OUTPUT]\n\noptional arguments:\n  -h, --help            show this help message and exit\n  --meta META           Meta file of used for converting\n  --file FILE [FILE ...]\n                        Path to csv file(s) used to convert, you can save your\n                        files' name into a file and call with prefix @ to read\n                        files list from your file, like 'maro data convert\n                        --meta meta.yml --output o.bin --file @files.txt'\n  --output OUTPUT       Path (with file name) to safe the binary output.\n"
    }
   ],
   "source": [
    "!maro data convert -h"
   ]
  },
  {
   "cell_type": "markdown",
   "metadata": {},
   "source": []
  },
  {
   "cell_type": "code",
   "execution_count": 3,
   "metadata": {},
   "outputs": [
    {
     "output_type": "execute_result",
     "data": {
      "text/plain": "            start_time  duration  start_station_index  end_station_index\n0  2019-01-01 00:00:00         5                    0                  1\n1  2019-01-01 00:01:00         5                    0                  1\n2  2019-01-01 00:01:00         5                    1                  0\n3  2019-01-01 00:05:00         5                    0                  1",
      "text/html": "<div>\n<style scoped>\n    .dataframe tbody tr th:only-of-type {\n        vertical-align: middle;\n    }\n\n    .dataframe tbody tr th {\n        vertical-align: top;\n    }\n\n    .dataframe thead th {\n        text-align: right;\n    }\n</style>\n<table border=\"1\" class=\"dataframe\">\n  <thead>\n    <tr style=\"text-align: right;\">\n      <th></th>\n      <th>start_time</th>\n      <th>duration</th>\n      <th>start_station_index</th>\n      <th>end_station_index</th>\n    </tr>\n  </thead>\n  <tbody>\n    <tr>\n      <th>0</th>\n      <td>2019-01-01 00:00:00</td>\n      <td>5</td>\n      <td>0</td>\n      <td>1</td>\n    </tr>\n    <tr>\n      <th>1</th>\n      <td>2019-01-01 00:01:00</td>\n      <td>5</td>\n      <td>0</td>\n      <td>1</td>\n    </tr>\n    <tr>\n      <th>2</th>\n      <td>2019-01-01 00:01:00</td>\n      <td>5</td>\n      <td>1</td>\n      <td>0</td>\n    </tr>\n    <tr>\n      <th>3</th>\n      <td>2019-01-01 00:05:00</td>\n      <td>5</td>\n      <td>0</td>\n      <td>1</td>\n    </tr>\n  </tbody>\n</table>\n</div>"
     },
     "metadata": {},
     "execution_count": 3
    }
   ],
   "source": [
    "# we have a csv file for testing, use it to convert\n",
    "import pandas\n",
    "\n",
    "pandas.read_csv(\"../../tests/data/citi_bike/case_1/trips.csv\")"
   ]
  },
  {
   "cell_type": "code",
   "execution_count": 4,
   "metadata": {
    "tags": []
   },
   "outputs": [],
   "source": [
    "# convert csv file(s) into binary\n",
    "!maro data convert --output trips.bin --meta ../../tests/data/citi_bike/trips.meta.yml --file ../../tests/data/citi_bike/case_1/trips.csv"
   ]
  },
  {
   "cell_type": "code",
   "execution_count": 1,
   "metadata": {
    "tags": []
   },
   "outputs": [
    {
     "output_type": "execute_result",
     "data": {
      "text/plain": "<maro.datalib.binary_reader.BinaryReader at 0x288dcffe518>"
     },
     "metadata": {},
     "execution_count": 1
    }
   ],
   "source": [
    "from maro.datalib.binary_reader import BinaryReader\n",
    "\n",
    "reader = BinaryReader('trips.bin')\n",
    "\n",
    "reader\n",
    "    "
   ]
  },
  {
   "cell_type": "code",
   "execution_count": 2,
   "metadata": {
    "tags": []
   },
   "outputs": [
    {
     "output_type": "stream",
     "name": "stdout",
     "text": "start time 2019-01-01 00:00:00+00:00\nend time 2019-01-01 00:05:00+00:00\n"
    }
   ],
   "source": [
    "\n",
    "# timezone same as meta file\n",
    "print(\"start time\", reader.start_datetime)\n",
    "print(\"end time\", reader.end_datetime)\n"
   ]
  },
  {
   "cell_type": "code",
   "execution_count": 3,
   "metadata": {
    "tags": []
   },
   "outputs": [
    {
     "output_type": "stream",
     "name": "stdout",
     "text": "Item(timestamp=1546300800, durations=5, src_station=0, dest_station=1)\nItem(timestamp=1546300860, durations=5, src_station=0, dest_station=1)\nItem(timestamp=1546300860, durations=5, src_station=1, dest_station=0)\nItem(timestamp=1546301100, durations=5, src_station=0, dest_station=1)\n"
    }
   ],
   "source": [
    "# get items between tick range\n",
    "# default return all\n",
    "for item in reader.items():\n",
    "    print(item)"
   ]
  },
  {
   "cell_type": "code",
   "execution_count": 7,
   "metadata": {
    "tags": []
   },
   "outputs": [
    {
     "output_type": "stream",
     "name": "stdout",
     "text": "Item(timestamp=1546300800, durations=5, src_station=0, dest_station=1)\nItem(timestamp=1546300860, durations=5, src_station=0, dest_station=1)\nItem(timestamp=1546300860, durations=5, src_station=1, dest_station=0)\n"
    }
   ],
   "source": [
    "# reader must be reset if you want to read from beginning\n",
    "reader.reset()\n",
    "\n",
    "# tick=0 if the timestamp of first item in binary file\n",
    "# use time_unit to specified unit of tick, currently support \"s\", \"m\", \"h\", \"d\"\n",
    "for item in reader.items(0, 1, time_unit=\"m\"):\n",
    "    print(item)"
   ]
  },
  {
   "cell_type": "code",
   "execution_count": 12,
   "metadata": {
    "tags": []
   },
   "outputs": [
    {
     "output_type": "stream",
     "name": "stdout",
     "text": "tick 0: Item(timestamp=1546300800, durations=5, src_station=0, dest_station=1)\ntick 1: Item(timestamp=1546300860, durations=5, src_station=0, dest_station=1)\ntick 1: Item(timestamp=1546300860, durations=5, src_station=1, dest_station=0)\n"
    }
   ],
   "source": [
    "reader.reset()\n",
    "\n",
    "# there is another method, used to return a item picker, that provides method to get items by specified tick sequentially\n",
    "picker = reader.items_tick_picker(0, 1, time_unit=\"m\")\n",
    "\n",
    "# NOTE: tick must specified sequentially\n",
    "for item in picker.items(0):\n",
    "    print(\"tick 0:\", item)\n",
    "\n",
    "for item in picker.items(1):\n",
    "    print(\"tick 1:\", item)"
   ]
  },
  {
   "cell_type": "code",
   "execution_count": null,
   "metadata": {},
   "outputs": [],
   "source": []
  }
 ],
 "metadata": {
  "kernelspec": {
   "display_name": "Python 3",
   "language": "python",
   "name": "python3"
  },
  "language_info": {
   "codemirror_mode": {
    "name": "ipython",
    "version": 3
   },
   "file_extension": ".py",
   "mimetype": "text/x-python",
   "name": "python",
   "nbconvert_exporter": "python",
   "pygments_lexer": "ipython3",
   "version": "3.6.10-final"
  }
 },
 "nbformat": 4,
 "nbformat_minor": 4
}