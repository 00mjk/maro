{
 "cells": [
  {
   "cell_type": "markdown",
   "metadata": {},
   "source": [
    "## Investigate simulator"
   ]
  },
  {
   "cell_type": "code",
   "execution_count": 2,
   "metadata": {},
   "outputs": [],
   "source": [
    "from maro.simulator import Env, get_available_envs, DecisionMode\n",
    "from maro.simulator.scenarios.ecr.common import Action, DecisionEvent\n",
    "from maro.simulator.graph import SnapshotList"
   ]
  },
  {
   "cell_type": "markdown",
   "metadata": {},
   "source": [
    "## Hello world\n",
    "**MARO** simulator provides a **Gym**-like interface, which is convenient to use."
   ]
  },
  {
   "cell_type": "code",
   "execution_count": 3,
   "metadata": {},
   "outputs": [
    {
     "name": "stdout",
     "output_type": "stream",
     "text": [
      "ep: 0, decision event: DecisionEvent(tick=7, port_idx=1, vessel_idx=0, action_scope=ActionScope {load: 20000, discharge: 0 })\n",
      "ep: 0, decision event: DecisionEvent(tick=7, port_idx=2, vessel_idx=1, action_scope=ActionScope {load: 20000, discharge: 0 })\n",
      "ep: 0, decision event: DecisionEvent(tick=7, port_idx=0, vessel_idx=2, action_scope=ActionScope {load: 12000, discharge: 0 })\n",
      "ep: 0, decision event: DecisionEvent(tick=7, port_idx=3, vessel_idx=3, action_scope=ActionScope {load: 16000, discharge: 0 })\n",
      "ep: 0, decision event: DecisionEvent(tick=7, port_idx=4, vessel_idx=4, action_scope=ActionScope {load: 16000, discharge: 0 })\n",
      "ep: 0, decision event: DecisionEvent(tick=7, port_idx=0, vessel_idx=5, action_scope=ActionScope {load: 12000, discharge: 0 })\n",
      "ep: 1, decision event: DecisionEvent(tick=7, port_idx=1, vessel_idx=0, action_scope=ActionScope {load: 20000, discharge: 0 })\n",
      "ep: 1, decision event: DecisionEvent(tick=7, port_idx=2, vessel_idx=1, action_scope=ActionScope {load: 20000, discharge: 0 })\n",
      "ep: 1, decision event: DecisionEvent(tick=7, port_idx=0, vessel_idx=2, action_scope=ActionScope {load: 12000, discharge: 0 })\n",
      "ep: 1, decision event: DecisionEvent(tick=7, port_idx=3, vessel_idx=3, action_scope=ActionScope {load: 16000, discharge: 0 })\n",
      "ep: 1, decision event: DecisionEvent(tick=7, port_idx=4, vessel_idx=4, action_scope=ActionScope {load: 16000, discharge: 0 })\n",
      "ep: 1, decision event: DecisionEvent(tick=7, port_idx=0, vessel_idx=5, action_scope=ActionScope {load: 12000, discharge: 0 })\n"
     ]
    }
   ],
   "source": [
    "env = Env(scenario='ecr', topology='5p_ssddd_l0.0', max_tick=10)\n",
    "\n",
    "for ep in range(2):\n",
    "    _, decision_event, is_done = env.step(None)\n",
    "\n",
    "    while not is_done:\n",
    "        print(f'ep: {ep}, decision event: {decision_event}')\n",
    "        dummy_action = Action(decision_event.vessel_idx, decision_event.port_idx, 0)\n",
    "        reward, decision_event, is_done = env.step(dummy_action)\n",
    "\n",
    "    env.reset()\n",
    "    "
   ]
  },
  {
   "cell_type": "markdown",
   "metadata": {},
   "source": [
    "## The workflow of ECR problem\n",
    "In **ECR** scenario  <span style=\"color:green\">**agent**</span> need to make the decision for loading/discharging empty container to/from the vessel.\n",
    "![alt text](./images/ecr_workflow.png)"
   ]
  },
  {
   "cell_type": "markdown",
   "metadata": {},
   "source": [
    "\n",
    "\n",
    "## Get all supported environments\n",
    "Internally, **MARO** use a 2 level hierarchical namespace to identify an environment.\n",
    "- `scenario` denotes a specific resource optimization domain\n",
    "- `topology` denotes a typical topology structure of its scenario\n",
    "\n",
    "You can use `get_available_envs` function to get all supported environments."
   ]
  },
  {
   "cell_type": "code",
   "execution_count": 4,
   "metadata": {},
   "outputs": [
    {
     "data": {
      "text/plain": [
       "[{'scenario': 'ecr', 'topology': '22p_global_l0.7'},\n",
       " {'scenario': 'ecr', 'topology': '6p_sssbdd_l0.0'},\n",
       " {'scenario': 'ecr', 'topology': '6p_sssbdd_l0.3'},\n",
       " {'scenario': 'ecr', 'topology': '5p_ssddd_l0.6'},\n",
       " {'scenario': 'ecr', 'topology': '22p_global_l0.5'},\n",
       " {'scenario': 'ecr', 'topology': '5p_ssddd_l0.5'},\n",
       " {'scenario': 'ecr', 'topology': '6p_sssbdd_l0.4'},\n",
       " {'scenario': 'ecr', 'topology': '22p_global_l0.2'},\n",
       " {'scenario': 'ecr', 'topology': '6p_sssbdd_l0.5'},\n",
       " {'scenario': 'ecr', 'topology': '5p_ssddd_l0.2'},\n",
       " {'scenario': 'ecr', 'topology': '6p_sssbdd_l0.6'},\n",
       " {'scenario': 'ecr', 'topology': '6p_sssbdd_l0.8'},\n",
       " {'scenario': 'ecr', 'topology': '5p_ssddd_l0.8'},\n",
       " {'scenario': 'ecr', 'topology': '6p_sssbdd_l0.2'},\n",
       " {'scenario': 'ecr', 'topology': '6p_sssbdd_l0.7'},\n",
       " {'scenario': 'ecr', 'topology': '5p_ssddd_l0.3'},\n",
       " {'scenario': 'ecr', 'topology': '4p_ssdd_l0.7'},\n",
       " {'scenario': 'ecr', 'topology': '4p_ssdd_l0.6'},\n",
       " {'scenario': 'ecr', 'topology': '4p_ssdd_l0.5'},\n",
       " {'scenario': 'ecr', 'topology': '22p_global_l0.4'},\n",
       " {'scenario': 'ecr', 'topology': '22p_global_l0.0'},\n",
       " {'scenario': 'ecr', 'topology': '5p_ssddd_l0.1'},\n",
       " {'scenario': 'ecr', 'topology': '5p_ssddd_l0.0'},\n",
       " {'scenario': 'ecr', 'topology': '4p_ssdd_l0.1'},\n",
       " {'scenario': 'ecr', 'topology': '4p_ssdd_l0.4'},\n",
       " {'scenario': 'ecr', 'topology': '6p_sssbdd_l0.1'},\n",
       " {'scenario': 'ecr', 'topology': '4p_ssdd_l0.3'},\n",
       " {'scenario': 'ecr', 'topology': '22p_global_l0.6'},\n",
       " {'scenario': 'ecr', 'topology': '22p_global_l0.3'},\n",
       " {'scenario': 'ecr', 'topology': '5p_ssddd_l0.4'},\n",
       " {'scenario': 'ecr', 'topology': '4p_ssdd_l0.8'},\n",
       " {'scenario': 'ecr', 'topology': '22p_global_l0.1'},\n",
       " {'scenario': 'ecr', 'topology': '22p_global_l0.8'},\n",
       " {'scenario': 'ecr', 'topology': '5p_ssddd_l0.7'},\n",
       " {'scenario': 'ecr', 'topology': '4p_ssdd_l0.2'},\n",
       " {'scenario': 'ecr', 'topology': '4p_ssdd_l0.0'}]"
      ]
     },
     "execution_count": 4,
     "metadata": {},
     "output_type": "execute_result"
    }
   ],
   "source": [
    "# get all supported environments\n",
    "get_available_envs()"
   ]
  },
  {
   "cell_type": "markdown",
   "metadata": {},
   "source": [
    "## Interact with environment\n",
    "**MARO** simulator is mainly focused on a multi-agent continuing resource optimization scenario. So both *continuing* and *multi-agent* are the main concerned interface design features.\n",
    "### Initialize an environment\n",
    "**MARO** simulator focus on the continuing scenario, so `max_tick` parameter is a must for initializing a new environment besides `scenario` and `topology`.\n",
    "\n",
    "For *mutli-agent* interaction, **MARO** simulator provides two kinds of decision mode for the decision events on the different/same agent in the same tick:\n",
    "- `DecisionMode.Sequential`: each related agent makes the decision sequentially, the next agent make the decision based on the last agent decision results.\n",
    "- `DecisionMode.Joint`: all related agents make the decision jointly, all related agents make the decision at the same time, based on the same states.\n"
   ]
  },
  {
   "cell_type": "code",
   "execution_count": 5,
   "metadata": {},
   "outputs": [],
   "source": [
    "# init an environment of 10 tick ecr scenario with 5p_ssddd_simple_static_order\n",
    "env = Env(scenario='ecr', topology='5p_ssddd_l0.0', max_tick=10, decision_mode=DecisionMode.Sequential)"
   ]
  },
  {
   "cell_type": "markdown",
   "metadata": {},
   "source": [
    "### Get environment basic information\n",
    "**MARO** is a *multi-agent* setting, different decision events need to be handled on the different agents. And for performance concern, **MARO** simulator uses the self-managed memory, all interfaces use an index(int) as the entity id. To ease the debug process, **MARO** simulator also provides the mapping from the `index(int)` to `name(string)`.\n",
    "**MARO** simulator has a general data modeling for the resource optimization problem, for **ECR** scenario two kinds of resource nodes are used:\n",
    "\n",
    "- `STATIC`: It's an abstraction of the port, which is a resource repository. It's also the decision component, which is called *agent* in the **RL** context.\n",
    "- `DYNAMIC`: It's an abstraction of the vessel, which is a resource container, and will sail between different ports.\n"
   ]
  },
  {
   "cell_type": "code",
   "execution_count": 6,
   "metadata": {},
   "outputs": [
    {
     "name": "stdout",
     "output_type": "stream",
     "text": [
      "ecr:5p_ssddd_l0.0 decision agent index list: [0, 1, 2, 3, 4]\n",
      "ecr:5p_ssddd_l0.0 internal idx2name mapping {'static': {0: 'transfer_port_001', 1: 'supply_port_001', 2: 'supply_port_002', 3: 'demand_port_001', 4: 'demand_port_002'}, 'dynamic': {0: 'rt1_vessel_001', 1: 'rt1_vessel_002', 2: 'rt1_vessel_003', 3: 'rt2_vessel_001', 4: 'rt2_vessel_002', 5: 'rt2_vessel_003'}}\n"
     ]
    }
   ],
   "source": [
    "agent_idx_list = env.agent_idx_list\n",
    "print(f'{env.name} decision agent index list: {agent_idx_list}')\n",
    "name_mapping = env.node_name_mapping\n",
    "print(f'{env.name} internal idx2name mapping', name_mapping)\n",
    "# TODO: get config"
   ]
  },
  {
   "cell_type": "markdown",
   "metadata": {},
   "source": [
    "### Get environment observation\n",
    "Unlike the `step` function in **Gym**, which will return an environment observation directly. **MARO** simulator `step` function doesn't return the environment observation directly. The agent can get a `snapshot_list` from `Env` instance, which includes environment snapshot of all happened ticks. It's convenient for *state shaping*. **MARO** simulator uses a *self-managed* memory for performance concern, `snapshot_list` is a block of `C` memory.\n",
    "#### Get all supported attributes list"
   ]
  },
  {
   "cell_type": "code",
   "execution_count": 7,
   "metadata": {},
   "outputs": [
    {
     "data": {
      "text/plain": [
       "[{'name': 'empty', 'slot length': 1},\n",
       " {'name': 'full', 'slot length': 1},\n",
       " {'name': 'early_discharge', 'slot length': 1},\n",
       " {'name': 'capacity', 'slot length': 1},\n",
       " {'name': 'remaining_space', 'slot length': 1},\n",
       " {'name': 'on_shipper', 'slot length': 1},\n",
       " {'name': 'on_consignee', 'slot length': 1},\n",
       " {'name': 'booking', 'slot length': 1},\n",
       " {'name': 'shortage', 'slot length': 1},\n",
       " {'name': 'acc_booking', 'slot length': 1},\n",
       " {'name': 'acc_shortage', 'slot length': 1},\n",
       " {'name': 'fulfillment', 'slot length': 1},\n",
       " {'name': 'acc_fulfillment', 'slot length': 1},\n",
       " {'name': 'route_idx', 'slot length': 1},\n",
       " {'name': 'last_loc_idx', 'slot length': 1},\n",
       " {'name': 'next_loc_idx', 'slot length': 1},\n",
       " {'name': 'past_stop_list', 'slot length': 4},\n",
       " {'name': 'past_stop_tick_list', 'slot length': 4},\n",
       " {'name': 'future_stop_list', 'slot length': 3},\n",
       " {'name': 'future_stop_tick_list', 'slot length': 3},\n",
       " {'name': 'full_on_ports', 'slot length': 25},\n",
       " {'name': 'full_on_vessels', 'slot length': 30},\n",
       " {'name': 'vessel_plans', 'slot length': 30}]"
      ]
     },
     "execution_count": 7,
     "metadata": {},
     "output_type": "execute_result"
    }
   ],
   "source": [
    "env.snapshot_list.attributes"
   ]
  },
  {
   "cell_type": "markdown",
   "metadata": {},
   "source": [
    "#### Get attribute value\n",
    "The attribute value can be queried through a sliceable interface, the returned value is a flattened 1-dimensional float32 numpy array, which length is `len(tick list) * len(node id list) * len(attribute list) * len(slot list)`.\n",
    "- Get static node attribute value: `snapshot_list.static_nodes[[tick] or tick: [node id] or node id: ([attribute name] or attribute name, [attribute slot] or attribute slot)]`\n",
    "- Get dynamic node attribute value: `snapshot_list.dynamic_nodes[[tick] or tick: [node id] or node id: ([attribute name] or attribute name, [attribute slot] or attribute slot)]`\n",
    " "
   ]
  },
  {
   "cell_type": "code",
   "execution_count": 14,
   "metadata": {},
   "outputs": [
    {
     "name": "stdout",
     "output_type": "stream",
     "text": [
      "decision event: DecisionEvent(tick=7, port_idx=2, vessel_idx=1, action_scope=ActionScope {load: 20000, discharge: 0 })\n",
      "empty value of static node 0 at all ticks: [19000. 18000. 17000. 16000. 15000. 14000. 13000. 12000.]\n",
      "empty value of static node 1 at all ticks: [20000. 20000. 20000. 20000. 20000. 20000. 20000. 20000.]\n",
      "empty value of static node 2 at all ticks: [20000. 20000. 20000. 20000. 20000. 20000. 20000. 20000.]\n",
      "empty value of static node 3 at all ticks: [19500. 19000. 18500. 18000. 17500. 17000. 16500. 16000.]\n",
      "empty value of static node 4 at all ticks: [19500. 19000. 18500. 18000. 17500. 17000. 16500. 16000.]\n",
      "empty value of all static nodes at all ticks: [19000. 20000. 20000. 19500. 19500. 18000. 20000. 20000. 19000. 19000.\n",
      " 17000. 20000. 20000. 18500. 18500. 16000. 20000. 20000. 18000. 18000.\n",
      " 15000. 20000. 20000. 17500. 17500. 14000. 20000. 20000. 17000. 17000.\n",
      " 13000. 20000. 20000. 16500. 16500. 12000. 20000. 20000. 16000. 16000.]\n",
      "full value of static node 0 at all ticks: [   0. 1000. 2000. 3000. 4000. 5000. 6000.    0.]\n",
      "full value of static node 1 at all ticks: [0. 0. 0. 0. 0. 0. 0. 0.]\n",
      "full value of static node 2 at all ticks: [0. 0. 0. 0. 0. 0. 0. 0.]\n",
      "full value of static node 3 at all ticks: [   0.  500. 1000. 1500. 2000. 2500. 3000.    0.]\n",
      "full value of static node 4 at all ticks: [   0.  500. 1000. 1500. 2000. 2500. 3000.    0.]\n",
      "full value of all static nodes at all ticks: [   0.    0.    0.    0.    0. 1000.    0.    0.  500.  500. 2000.    0.\n",
      "    0. 1000. 1000. 3000.    0.    0. 1500. 1500. 4000.    0.    0. 2000.\n",
      " 2000. 5000.    0.    0. 2500. 2500. 6000.    0.    0. 3000. 3000.    0.\n",
      "    0.    0.    0.    0.]\n",
      "empty, full values of all static nodes at all ticks: [19000.     0. 20000.     0. 20000.     0. 19500.     0. 19500.     0.\n",
      " 18000.  1000. 20000.     0. 20000.     0. 19000.   500. 19000.   500.\n",
      " 17000.  2000. 20000.     0. 20000.     0. 18500.  1000. 18500.  1000.\n",
      " 16000.  3000. 20000.     0. 20000.     0. 18000.  1500. 18000.  1500.\n",
      " 15000.  4000. 20000.     0. 20000.     0. 17500.  2000. 17500.  2000.\n",
      " 14000.  5000. 20000.     0. 20000.     0. 17000.  2500. 17000.  2500.\n",
      " 13000.  6000. 20000.     0. 20000.     0. 16500.  3000. 16500.  3000.\n",
      " 12000.     0. 20000.     0. 20000.     0. 16000.     0. 16000.     0.]\n",
      "vessel 1 next 3 stop after tick 7: [2. 0. 1.]\n",
      "vessel 1 next 3 stop ticks after tick 7: [21. 28. 35.]\n",
      "full containers on port:\n",
      "[[0 0 0 0 0]\n",
      " [0 0 0 0 0]\n",
      " [0 0 0 0 0]\n",
      " [0 0 0 0 0]\n",
      " [0 0 0 0 0]]\n",
      "full containers on vessels\n",
      "[[   0    0    0    0    0]\n",
      " [   0    0    0    0    0]\n",
      " [   0 3500 3500    0    0]\n",
      " [3500    0    0    0    0]\n",
      " [3500    0    0    0    0]\n",
      " [   0    0    0    0    0]]\n",
      "vessel plans\n",
      "[[21 28 14 -1 -1]\n",
      " [14 21  7 -1 -1]\n",
      " [ 7 14 21 -1 -1]\n",
      " [21 -1 -1  7 14]\n",
      " [14 -1 -1 21  7]\n",
      " [ 7 -1 -1 14 21]]\n"
     ]
    }
   ],
   "source": [
    "env = Env(scenario='ecr', topology='5p_ssddd_l0.0', max_tick=100)\n",
    "_, decision_event, is_done = env.step(None)\n",
    "\n",
    "ports = env.snapshot_list.static_nodes\n",
    "vessels = env.snapshot_list.dynamic_nodes\n",
    "matrix = env.snapshot_list.matrix\n",
    "\n",
    "while not is_done:\n",
    "    dummy_action = Action(decision_event.vessel_idx, decision_event.port_idx, 0)\n",
    "    reward, decision_event, is_done = env.step(dummy_action)\n",
    "    print(f'decision event: {decision_event}')\n",
    "    print('empty value of static node 0 at all ticks:', ports[:0: ('empty', 0)])\n",
    "    print('empty value of static node 1 at all ticks:', ports[:1: ('empty', 0)])\n",
    "    print('empty value of static node 2 at all ticks:', ports[:2: ('empty', 0)])\n",
    "    print('empty value of static node 3 at all ticks:', ports[:3: ('empty', 0)])\n",
    "    print('empty value of static node 4 at all ticks:', ports[:4: ('empty', 0)])\n",
    "    print('empty value of all static nodes at all ticks:', ports[:: ('empty', 0)])\n",
    "    print('full value of static node 0 at all ticks:', ports[:0: ('full', 0)])\n",
    "    print('full value of static node 1 at all ticks:', ports[:1: ('full', 0)])\n",
    "    print('full value of static node 2 at all ticks:', ports[:2: ('full', 0)])\n",
    "    print('full value of static node 3 at all ticks:', ports[:3: ('full', 0)])\n",
    "    print('full value of static node 4 at all ticks:', ports[:4: ('full', 0)])\n",
    "    print('full value of all static nodes at all ticks:', ports[:: ('full', 0)]) \n",
    "    print('empty, full values of all static nodes at all ticks:', ports[:: (['empty', 'full'], 0)])\n",
    "    \n",
    "    predict_stop_id = vessels[decision_event.tick: decision_event.port_idx: ('future_stop_list', [0,1,2])]\n",
    "    predict_arrival_tick = vessels[decision_event.tick: decision_event.port_idx: ('future_stop_tick_list', [0,1,2])]\n",
    "    print(f'vessel {decision_event.vessel_idx} next 3 stop after tick {decision_event.tick}:', predict_stop_id)\n",
    "    print(f'vessel {decision_event.vessel_idx} next 3 stop ticks after tick {decision_event.tick}:', predict_arrival_tick)\n",
    "    \n",
    "    # get the full container distribution (row is source port, column is destination port)\n",
    "    full_on_ports = matrix[decision_event.tick: \"full_on_ports\"]\n",
    "    print(\"full containers on port:\")\n",
    "    # x->port, y->port, v->ready for load full container number\n",
    "    print(full_on_ports.reshape(5, 5))\n",
    "    \n",
    "    # get full containers on vessels (row is vessel, column is destination port)\n",
    "    full_on_vessels = matrix[decision_event.tick: \"full_on_vessels\"]\n",
    "    print(\"full containers on vessels\")\n",
    "    # x->vessel, y->port, v->full container number\n",
    "    print(full_on_vessels.reshape(6, 5))\n",
    "    \n",
    "    # get predict vessel plans (at first time, the tick of current arriving vessels is current tick, it will be changed to planed tick after take action)\n",
    "    vessel_plans = matrix[decision_event.tick: \"vessel_plans\"] \n",
    "    # -1 means the vessel cannot reach that port\n",
    "    print(\"vessel plans\")\n",
    "    # x->vessel, y->port, v->vessel next arrive time\n",
    "    print(vessel_plans.reshape(6, 5))\n",
    "    break"
   ]
  },
  {
   "cell_type": "markdown",
   "metadata": {},
   "source": [
    "### Drive environment move forward\n",
    "**MARO** simulator provides a **Gym**-like interface, the agent interacts with simulator though `step` interface. For the interface unification and simplification, `step` is used for both the environment `start` and `take action`.\n",
    "\n",
    "- `start`: Tell the environment to start running, and environment will run until meeting the next decision event.\n",
    "```python\n",
    "_, decision_event, is_done = env.step(None)\n",
    "```\n",
    "- `DecisionEvent`: Provide the needed information for the decision making of the agent, such as the current arrived vessel index, port index, and action scope, etc. \n",
    "- `Action`: The applied action for the environment, which is generated by the agent.\n",
    "- `take action`: Provide an action to the environment for the current decision event, which will be applied to the environment.\n",
    "```python\n",
    "dummy_action = Action(decision_event.vessel_idx, decision_event.port_idx, 0)\n",
    "reward, decision_event, is_done = env.step(dummy_action)\n",
    "```"
   ]
  },
  {
   "cell_type": "code",
   "execution_count": 9,
   "metadata": {},
   "outputs": [
    {
     "name": "stdout",
     "output_type": "stream",
     "text": [
      "DecisionEvent(tick=7, port_idx=1, vessel_idx=0, action_scope=ActionScope {load: 20000, discharge: 0 })\n",
      "Action {quantity: 0, port: 1, vessel: 0 }\n",
      "DecisionEvent(tick=7, port_idx=2, vessel_idx=1, action_scope=ActionScope {load: 20000, discharge: 0 })\n"
     ]
    }
   ],
   "source": [
    "env.reset()\n",
    "_, decision_event, is_done = env.step(None)\n",
    "print(decision_event)\n",
    "dummy_action = Action(decision_event.vessel_idx, decision_event.port_idx, 0)\n",
    "print(dummy_action)\n",
    "reward, decision_event, is_done = env.step(dummy_action)\n",
    "print(decision_event)"
   ]
  },
  {
   "cell_type": "code",
   "execution_count": null,
   "metadata": {},
   "outputs": [],
   "source": []
  }
 ],
 "metadata": {
  "kernelspec": {
   "display_name": "Python 3",
   "language": "python",
   "name": "python3"
  },
  "language_info": {
   "codemirror_mode": {
    "name": "ipython",
    "version": 3
   },
   "file_extension": ".py",
   "mimetype": "text/x-python",
   "name": "python",
   "nbconvert_exporter": "python",
   "pygments_lexer": "ipython3",
   "version": "3.7.5"
  },
  "varInspector": {
   "cols": {
    "lenName": 16,
    "lenType": 16,
    "lenVar": 40
   },
   "kernels_config": {
    "python": {
     "delete_cmd_postfix": "",
     "delete_cmd_prefix": "del ",
     "library": "var_list.py",
     "varRefreshCmd": "print(var_dic_list())"
    },
    "r": {
     "delete_cmd_postfix": ") ",
     "delete_cmd_prefix": "rm(",
     "library": "var_list.r",
     "varRefreshCmd": "cat(var_dic_list()) "
    }
   },
   "types_to_exclude": [
    "module",
    "function",
    "builtin_function_or_method",
    "instance",
    "_Feature"
   ],
   "window_display": false
  }
 },
 "nbformat": 4,
 "nbformat_minor": 4
}
