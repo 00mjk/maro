{
 "cells": [
  {
   "cell_type": "markdown",
   "metadata": {},
   "source": [
    "# Quick Start"
   ]
  },
  {
   "cell_type": "markdown",
   "metadata": {},
   "source": [
    "Below is a simple demo of interaction with the environment."
   ]
  },
  {
   "cell_type": "code",
   "execution_count": 1,
   "metadata": {},
   "outputs": [],
   "source": [
    "from maro.simulator import Env\n",
    "from maro.simulator.scenarios.citi_bike.common import Action, DecisionEvent\n",
    "\n",
    "env = Env(scenario=\"citi_bike\", topology=\"ny.201912\", start_tick=0, durations=1440, snapshot_resolution=30)\n",
    "\n",
    "is_done: bool = False\n",
    "reward: int = None\n",
    "decision_event: DecisionEvent = None\n",
    "\n",
    "while not is_done:\n",
    "    action: Action = None\n",
    "    reward, decision_event, is_done = env.step(action)"
   ]
  },
  {
   "cell_type": "markdown",
   "metadata": {},
   "source": [
    "# Environment of the bike repositioning"
   ]
  },
  {
   "cell_type": "markdown",
   "metadata": {},
   "source": [
    "To initialize an environment, you need to specify the values of several parameters:\n",
    "- **scenario**: The target scenario of this Env. \"citi_bike\" denotes for the bike repositioning.\n",
    "- **topology**: The target topology of this Env.\n",
    "   + There are some predefined topologies in MARO, that you can directly use it as in the demo.\n",
    "   + Also, you can define your own topologies following the guidance in the [doc](docs/customization/new_topology.rst).\n",
    "- **start_tick**: The start tick of this Env, 1 tick corresponds to 1 minute in citi_bike.\n",
    "   + In the demo above, *start_tick=0* indicates a simulation start from the beginning of the given topology.\n",
    "- **durations**: The duration of thie Env, in the unit of tick/minute.\n",
    "   + In the demo above, *durations=1440* indicates a simulation length of 1 day (24h * 60min/h).\n",
    "- **snapshot_resolution**: The time granularity of maintaining the snapshots of the environments, in the unit of tick/minute.\n",
    "   + In the demo above, *snapshot_resolution=30* indicates that a snapshot will be created and saved every 30 minutes during the simulation.\n",
    "\n",
    "You can get all available scenarios and topologies by calling:"
   ]
  },
  {
   "cell_type": "code",
   "execution_count": 2,
   "metadata": {},
   "outputs": [
    {
     "data": {
      "text/plain": [
       "[{'scenario': 'citi_bike', 'topology': 'ny201912'},\n",
       " {'scenario': 'citi_bike', 'topology': 'train'},\n",
       " {'scenario': 'ecr', 'topology': '6p_sssbdd_l0.0'},\n",
       " {'scenario': 'ecr', 'topology': '6p_sssbdd_l0.3'},\n",
       " {'scenario': 'ecr', 'topology': '5p_ssddd_l0.6'},\n",
       " {'scenario': 'ecr', 'topology': '5p_ssddd_l0.5'},\n",
       " {'scenario': 'ecr', 'topology': '6p_sssbdd_l0.4'},\n",
       " {'scenario': 'ecr', 'topology': '6p_sssbdd_l0.5'},\n",
       " {'scenario': 'ecr', 'topology': '5p_ssddd_l0.2'},\n",
       " {'scenario': 'ecr', 'topology': '22p_global_trade_l0.1'},\n",
       " {'scenario': 'ecr', 'topology': '6p_sssbdd_l0.6'},\n",
       " {'scenario': 'ecr', 'topology': '6p_sssbdd_l0.8'},\n",
       " {'scenario': 'ecr', 'topology': '22p_global_trade_l0.3'},\n",
       " {'scenario': 'ecr', 'topology': '22p_global_trade_l0.4'},\n",
       " {'scenario': 'ecr', 'topology': '5p_ssddd_l0.8'},\n",
       " {'scenario': 'ecr', 'topology': '6p_sssbdd_l0.2'},\n",
       " {'scenario': 'ecr', 'topology': '6p_sssbdd_l0.7'},\n",
       " {'scenario': 'ecr', 'topology': '22p_global_trade_l0.2'},\n",
       " {'scenario': 'ecr', 'topology': '5p_ssddd_l0.3'},\n",
       " {'scenario': 'ecr', 'topology': '4p_ssdd_l0.7'},\n",
       " {'scenario': 'ecr', 'topology': '4p_ssdd_l0.6'},\n",
       " {'scenario': 'ecr', 'topology': '4p_ssdd_l0.5'},\n",
       " {'scenario': 'ecr', 'topology': '22p_global_trade_l0.0'},\n",
       " {'scenario': 'ecr', 'topology': '5p_ssddd_l0.1'},\n",
       " {'scenario': 'ecr', 'topology': '5p_ssddd_l0.0'},\n",
       " {'scenario': 'ecr', 'topology': '4p_ssdd_l0.1'},\n",
       " {'scenario': 'ecr', 'topology': '4p_ssdd_l0.4'},\n",
       " {'scenario': 'ecr', 'topology': '6p_sssbdd_l0.1'},\n",
       " {'scenario': 'ecr', 'topology': '4p_ssdd_l0.3'},\n",
       " {'scenario': 'ecr', 'topology': '5p_ssddd_l0.4'},\n",
       " {'scenario': 'ecr', 'topology': '4p_ssdd_l0.8'},\n",
       " {'scenario': 'ecr', 'topology': '22p_global_trade_l0.6'},\n",
       " {'scenario': 'ecr', 'topology': '22p_global_trade_l0.7'},\n",
       " {'scenario': 'ecr', 'topology': '5p_ssddd_l0.7'},\n",
       " {'scenario': 'ecr', 'topology': '22p_global_trade_l0.5'},\n",
       " {'scenario': 'ecr', 'topology': '22p_global_trade_l0.8'},\n",
       " {'scenario': 'ecr', 'topology': '4p_ssdd_l0.2'},\n",
       " {'scenario': 'ecr', 'topology': '4p_ssdd_l0.0'}]"
      ]
     },
     "execution_count": 2,
     "metadata": {},
     "output_type": "execute_result"
    }
   ],
   "source": [
    "from maro.simulator.utils import get_available_envs\n",
    "\n",
    "get_available_envs()    # TODO: specify the scenario"
   ]
  },
  {
   "cell_type": "markdown",
   "metadata": {},
   "source": [
    "Once you created an instance of the environment, you can easily access the real-time information of this environment, like:"
   ]
  },
  {
   "cell_type": "code",
   "execution_count": 3,
   "metadata": {},
   "outputs": [
    {
     "name": "stdout",
     "output_type": "stream",
     "text": [
      "The current tick: 0.\n",
      "The current frame index: 0.\n",
      "There are 528 agents in this Env.\n",
      "There will be 48 snapshots in total.\n",
      "\n",
      "Env Summary:\n",
      "{'node_detail': {'matrices': {'attributes': {...}, 'number': 1},\n",
      "                 'stations': {'attributes': {...}, 'number': 528}},\n",
      " 'node_mapping': {}}\n",
      "\n",
      "Env Summary - matrices:\n",
      "{'attributes': {'distance_adj': {'slots': 278784, 'type': 'f'},\n",
      "                'trips_adj': {'slots': 278784, 'type': 'i'}},\n",
      " 'number': 1}\n",
      "\n",
      "Env Summary - stations:\n",
      "{'attributes': {'bikes': {'slots': 1, 'type': 'i'},\n",
      "                'capacity': {'slots': 1, 'type': 'i'},\n",
      "                'extra_cost': {'slots': 1, 'type': 'i'},\n",
      "                'failed_return': {'slots': 1, 'type': 'i'},\n",
      "                'fulfillment': {'slots': 1, 'type': 'i'},\n",
      "                'holiday': {'slots': 1, 'type': 'i2'},\n",
      "                'shortage': {'slots': 1, 'type': 'i'},\n",
      "                'temperature': {'slots': 1, 'type': 'i2'},\n",
      "                'transfer_cost': {'slots': 1, 'type': 'i'},\n",
      "                'trip_requirement': {'slots': 1, 'type': 'i'},\n",
      "                'weather': {'slots': 1, 'type': 'i2'},\n",
      "                'weekday': {'slots': 1, 'type': 'i2'}},\n",
      " 'number': 528}\n"
     ]
    }
   ],
   "source": [
    "from maro.backends.frame import SnapshotList\n",
    "from maro.simulator import Env\n",
    "from pprint import pprint\n",
    "from typing import List\n",
    "\n",
    "\n",
    "# Initialize an Env for citi_bike scenario\n",
    "env = Env(scenario=\"citi_bike\", topology=\"ny201912\", start_tick=0, durations=1440, snapshot_resolution=30)\n",
    "\n",
    "# The current tick\n",
    "tick: int = env.tick\n",
    "print(f\"The current tick: {tick}.\")\n",
    "\n",
    "# The current frame index, which indicates the index of current frame in the snapshot-list\n",
    "frame_index: int = env.frame_index\n",
    "print(f\"The current frame index: {frame_index}.\")\n",
    "\n",
    "# The agent index list in the environment\n",
    "agent_idx_list: List[int] = env.agent_idx_list\n",
    "print(f\"There are {len(agent_idx_list)} agents in this Env.\")\n",
    "\n",
    "# The whole snapshot-list of the environment, snapshots are taken in the granularity of the given snapshot_resolution\n",
    "# The example of how to use the snapshot will be shown later\n",
    "snapshot_list: SnapshotList = env.snapshot_list\n",
    "print(f\"There will be {len(snapshot_list)} snapshots in total.\")\n",
    "\n",
    "# The summary info of the environment\n",
    "summary: dict = env.summary\n",
    "print(f\"\\nEnv Summary:\")\n",
    "pprint(summary, depth=3)\n",
    "\n",
    "print(f\"\\nEnv Summary - matrices:\")\n",
    "pprint(summary['node_detail']['matrices'])\n",
    "\n",
    "print(f\"\\nEnv Summary - stations:\")\n",
    "pprint(summary['node_detail']['stations'])"
   ]
  },
  {
   "cell_type": "markdown",
   "metadata": {},
   "source": [
    "# Interaction with the environment"
   ]
  },
  {
   "cell_type": "markdown",
   "metadata": {},
   "source": [
    "Before starting interaction with the environment, we need to know **DecisionEvent** and **Action** first."
   ]
  },
  {
   "cell_type": "markdown",
   "metadata": {},
   "source": [
    "## DecisionEvent\n",
    "\n",
    "Once the environment need the agent's response to promote the simulation, it will throw an **DecisionEvent**. In the scenario of citi_bike, the information of each DecisionEvent is listed as below:\n",
    "- **station_idx**: the id of the station/agent that needs to respond to the environment\n",
    "- **tick**: the corresponding tick\n",
    "- **frame_index**: the corresponding frame index, that is the index of the corresponding snapshot in the snapshot list\n",
    "- **type**: the decision type of this decision event. In citi_bike scenario, there are 2 types:\n",
    "   + **Supply**: There is too many bikes in the corresponding station, it's better to reposition some of them to other stations.\n",
    "   + **Demand**: There is no enough bikes in the corresponding station, it's better to reposition bikes from other stations\n",
    "- **action_scope**: a dictionary of valid action items.\n",
    "   + The key of the item indicates the station/agent id;\n",
    "   + The meaning of the value differs for different decision type:\n",
    "      * If the decision type is Supply, the value of the station itself means its bike inventory at that moment, while the value of other target stations means the number of their empty docks;\n",
    "      * If the decision type is Demand, the value of the station itself means the number of its empty docks, while the value of other target stations means their bike inventory."
   ]
  },
  {
   "cell_type": "markdown",
   "metadata": {},
   "source": [
    "## Action\n",
    "\n",
    "Once we get a **DecisionEvent** from the envirionment, we should respond with an **Action**. Valid Action could be:\n",
    "- None, which means do nothing.\n",
    "- A valid Action instance, including:\n",
    "   + **from_station_idx**: int, the id of the source station of the bike transportation\n",
    "   + **to_station_idx**: int, the id of the destination station of the bike transportation\n",
    "   + **number**: int, the quantity of the bike transportation"
   ]
  },
  {
   "cell_type": "markdown",
   "metadata": {},
   "source": [
    "## Generate random actions based on the DecisionEvent"
   ]
  },
  {
   "cell_type": "markdown",
   "metadata": {},
   "source": [
    "The demo code in the Quick Start part has shown an interaction mode that doing nothing(responding with None action). Here we read the detailed information about the DecisionEvent and generate random actions based on it."
   ]
  },
  {
   "cell_type": "code",
   "execution_count": null,
   "metadata": {},
   "outputs": [],
   "source": [
    "from maro.simulator import Env\n",
    "from maro.simulator.scenarios.citi_bike.common import Action, DecisionEvent, DecisionType\n",
    "\n",
    "import random\n",
    "\n",
    "# Initialize an Env for citi_bike scenario\n",
    "env = Env(scenario=\"citi_bike\", topology=\"ny201912\", start_tick=0, durations=1440, snapshot_resolution=30)\n",
    "\n",
    "is_done: bool = False\n",
    "reward: int = None\n",
    "decision_event: DecisionEvent = None\n",
    "action: Action = None\n",
    "\n",
    "# Start the env with a None Action\n",
    "reward, decision_event, is_done = env.step(action)\n",
    "\n",
    "while not is_done:\n",
    "    if decision_event.type == DecisionType.Supply:\n",
    "        # the value of the station itself means the bike inventory if Supply\n",
    "        self_bike_inventory = decision_event.action_scope[decision_event.station_idx]\n",
    "        # the value of other stations means the quantity of empty docks if Supply\n",
    "        target_idx_dock_tuple_list = [\n",
    "            (k, v) for k, v in decision_event.action_scope.items() if k != decision_event.station_idx\n",
    "        ]\n",
    "        # random choose a target station weighted by the quantity of empty docks\n",
    "        target_idx, target_dock = random.choices(\n",
    "            target_idx_dock_tuple_list,\n",
    "            weights=[item[1] for item in target_idx_dock_tuple_list]\n",
    "        )[0]\n",
    "        # generate the corresponding random Action\n",
    "        action = Action(\n",
    "            from_station_idx=decision_event.station_idx,\n",
    "            to_station_idx=target_idx,\n",
    "            number=random.randint(0, min(self_bike_inventory, target_dock))\n",
    "        )\n",
    "\n",
    "    elif decision_event.type == DecisionType.Demand:\n",
    "        # the value of the station itself means the quantity of empty docks if Demand\n",
    "        self_available_dock = decision_event.action_scope[decision_event.station_idx]\n",
    "        # the value of other stations means their bike inventory if Demand\n",
    "        target_idx_inventory_tuple_list = [\n",
    "            (k, v) for k, v in decision_event.action_scope.items() if k != decision_event.station_idx\n",
    "        ]\n",
    "        # random choose a target station weighted by the bike inventory\n",
    "        target_idx, target_inventory = random.choices(\n",
    "            target_idx_inventory_tuple_list,\n",
    "            weights=[item[1] for item in target_idx_inventory_tuple_list]\n",
    "        )[0]\n",
    "        # generate the corresponding random Action\n",
    "        action = Action(\n",
    "            from_station_idx=target_idx,\n",
    "            to_station_idx=decision_event.station_idx,\n",
    "            number=random.randint(0, min(self_available_dock, target_inventory))\n",
    "        )\n",
    "\n",
    "    else:\n",
    "        action = None\n",
    "    \n",
    "    # Random sampling some records to show in the output   TODO\n",
    "#     if random.random() > 0.95:\n",
    "#         print(\"*************\\n{decision_event}\\n{action}\")\n",
    "    \n",
    "    # Respond the environment with the generated Action\n",
    "    reward, decision_event, is_done = env.step(action)"
   ]
  },
  {
   "cell_type": "markdown",
   "metadata": {},
   "source": [
    "## Get the environment observation"
   ]
  },
  {
   "cell_type": "markdown",
   "metadata": {},
   "source": [
    "You can also implement other strategies or build models to take action. At this time, real-time information and historical records of the environment are very important for making good decisions. In this case, the the environment snapshot list is exactly what you need.\n",
    "\n",
    "The information in the snapshot list is indexed by 3 dimensions:\n",
    "- A frame index or a frame index list. (int or list of int) Empty indicates for all time slides till now\n",
    "- A station id (list). (int of list of int) Empty indicates for all stations/agents\n",
    "- An Attribute name (list). (str of list of str) You can get all available attributes in env.summary as shown before.\n",
    "\n",
    "The return value from the snapshot list is a numpy.ndarray with shape **(frame * attribute * station, )**.\n",
    "\n",
    "More detailed introduction to the snapshot list is [here](). # TODO: add hyper-link"
   ]
  },
  {
   "cell_type": "code",
   "execution_count": 12,
   "metadata": {},
   "outputs": [
    {
     "name": "stdout",
     "output_type": "stream",
     "text": [
      "\n",
      "Env Summary - matrices:\n",
      "{'attributes': {'bikes': {'slots': 1, 'type': 'i'},\n",
      "                'capacity': {'slots': 1, 'type': 'i'},\n",
      "                'extra_cost': {'slots': 1, 'type': 'i'},\n",
      "                'failed_return': {'slots': 1, 'type': 'i'},\n",
      "                'fulfillment': {'slots': 1, 'type': 'i'},\n",
      "                'holiday': {'slots': 1, 'type': 'i2'},\n",
      "                'shortage': {'slots': 1, 'type': 'i'},\n",
      "                'temperature': {'slots': 1, 'type': 'i2'},\n",
      "                'transfer_cost': {'slots': 1, 'type': 'i'},\n",
      "                'trip_requirement': {'slots': 1, 'type': 'i'},\n",
      "                'weather': {'slots': 1, 'type': 'i2'},\n",
      "                'weekday': {'slots': 1, 'type': 'i2'}},\n",
      " 'number': 528}\n"
     ]
    }
   ],
   "source": [
    "from maro.simulator import Env\n",
    "from pprint import pprint\n",
    "\n",
    "\n",
    "# Initialize an Env for citi_bike scenario\n",
    "env = Env(scenario=\"citi_bike\", topology=\"ny201912\", start_tick=0, durations=1440, snapshot_resolution=30)\n",
    "\n",
    "# The summary info of the environment\n",
    "print(f\"\\nEnv Summary - matrices:\")\n",
    "pprint(env.summary['node_detail']['stations'])"
   ]
  },
  {
   "cell_type": "code",
   "execution_count": 11,
   "metadata": {},
   "outputs": [
    {
     "name": "stdout",
     "output_type": "stream",
     "text": [
      "<class 'numpy.ndarray'> (10,)\n",
      "Trip requirements for station 5 with time going by: [1. 0. 0. 1. 4. 2. 1. 4. 2. 0.]\n",
      "\n",
      "<class 'numpy.ndarray'> (10560,)\n",
      "<class 'numpy.ndarray'> (10, 2, 528)\n",
      "Station 1: [12. 13. 13. 13. 13. 13. 14. 14. 12. 12.]\n",
      "Station 3: [19. 18. 21. 20. 18. 17. 16. 16. 15. 16.]\n",
      "Station 5: [11. 12. 12. 12.  9.  9.  8.  4.  7.  7.]\n",
      "Station 7: [8. 8. 8. 7. 8. 7. 7. 7. 7. 7.]\n",
      "Station 9: [15. 15. 15. 16. 17. 18. 22. 21. 23. 23.]\n",
      "Station 11: [13. 13. 14. 13. 16. 17. 20. 17. 17. 16.]\n",
      "Station 13: [13. 13. 13. 14. 14. 14. 12.  9. 11. 12.]\n",
      "Station 17: [27. 28. 28. 27. 29. 28. 31. 32. 32. 33.]\n",
      "Station 19: [18. 19. 19. 19. 20. 20. 20. 20. 20. 21.]\n"
     ]
    }
   ],
   "source": [
    "from maro.backends.frame import SnapshotList\n",
    "from maro.simulator import Env\n",
    "from pprint import pprint\n",
    "from typing import List\n",
    "\n",
    "\n",
    "# Initialize an Env for citi_bike scenario, from 07:00 to 12:00\n",
    "env = Env(scenario=\"citi_bike\", topology=\"ny201912\", start_tick=420, durations=300, snapshot_resolution=30)\n",
    "\n",
    "# Run the environment to the end\n",
    "_, _, is_done = env.step(None)\n",
    "while not is_done:\n",
    "    _, _, is_done = env.step(None)\n",
    "\n",
    "# Get trip requirement from snapshot list by directly using station id and attribute name\n",
    "station_id = 5\n",
    "trip_info = env.snapshot_list[\"stations\"][:station_id:\"trip_requirement\"]\n",
    "print(type(trip_info), trip_info.shape)\n",
    "print(f\"Trip requirements for station {station_id} with time going by: {trip_info}\\n\")\n",
    "\n",
    "# Get capacity and bikes from snapshot list simultaneously by using attribute list\n",
    "attribute_list = [\"capacity\", \"bikes\"]\n",
    "info = env.snapshot_list[\"stations\"][::attribute_list]\n",
    "print(type(info), info.shape)\n",
    "\n",
    "# Reshape the info of capacity and bikes into a user-friendly shape\n",
    "num_attributes = len(attribute_list)\n",
    "num_frame = env.frame_index + 1\n",
    "num_stations = len(env.agent_idx_list)\n",
    "info = info.reshape(num_frame, num_attributes, num_stations)\n",
    "print(type(info), info.shape)\n",
    "\n",
    "# Pring and show the change of bikes in some stations:\n",
    "bikes_idx = 1\n",
    "for station_id in [1, 3, 5, 7, 9, 11, 13, 17, 19]:\n",
    "    print(f\"Station {station_id}: {info[:, bikes_idx, station_id]}\")"
   ]
  }
 ],
 "metadata": {
  "kernelspec": {
   "display_name": "Python 3",
   "language": "python",
   "name": "python3"
  },
  "language_info": {
   "codemirror_mode": {
    "name": "ipython",
    "version": 3
   },
   "file_extension": ".py",
   "mimetype": "text/x-python",
   "name": "python",
   "nbconvert_exporter": "python",
   "pygments_lexer": "ipython3",
   "version": "3.7.7"
  }
 },
 "nbformat": 4,
 "nbformat_minor": 4
}